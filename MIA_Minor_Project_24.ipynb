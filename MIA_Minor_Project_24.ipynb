{
  "metadata": {
    "kernelspec": {
      "display_name": "Python 3",
      "name": "python3"
    },
    "language_info": {
      "name": "python",
      "version": "3.7.9",
      "mimetype": "text/x-python",
      "codemirror_mode": {
        "name": "ipython",
        "version": 3
      },
      "pygments_lexer": "ipython3",
      "nbconvert_exporter": "python",
      "file_extension": ".py"
    },
    "kaggle": {
      "accelerator": "none",
      "dataSources": [
        {
          "sourceId": 4140,
          "sourceType": "datasetVersion",
          "datasetId": 2477
        }
      ],
      "dockerImageVersionId": 30075,
      "isInternetEnabled": true,
      "language": "python",
      "sourceType": "notebook",
      "isGpuEnabled": false
    },
    "colab": {
      "provenance": [],
      "gpuType": "T4"
    },
    "accelerator": "GPU"
  },
  "nbformat_minor": 0,
  "nbformat": 4,
  "cells": [
    {
      "cell_type": "markdown",
      "source": [
        "<div class=\"alert alert-block alert-danger\">  \n",
        "<h2><center><strong>Importing Python Libraries 📕 📗 📘 📙</strong></center></h2>\n",
        "        \n",
        "</div>"
      ],
      "metadata": {
        "papermill": {
          "duration": 0.065466,
          "end_time": "2020-11-30T07:38:51.578836",
          "exception": false,
          "start_time": "2020-11-30T07:38:51.51337",
          "status": "completed"
        },
        "tags": [],
        "id": "_XW7wwLt5Drr"
      }
    },
    {
      "cell_type": "code",
      "source": [
        "import numpy as np\n",
        "import pandas as pd\n",
        "import seaborn as sns\n",
        "import matplotlib.pyplot as plt\n",
        "plt.style.use('ggplot')\n",
        "from sklearn.metrics import roc_curve, auc\n",
        "from sklearn.metrics import classification_report, confusion_matrix\n",
        "import nltk\n",
        "from nltk.corpus import stopwords\n",
        "from nltk.stem import PorterStemmer\n",
        "from sklearn.model_selection import train_test_split\n",
        "from mlxtend.plotting import plot_confusion_matrix\n",
        "import matplotlib.cm as cm\n",
        "from matplotlib import rcParams\n",
        "from collections import Counter\n",
        "from nltk.tokenize import RegexpTokenizer\n",
        "import re\n",
        "import string\n",
        "from tensorflow.keras.layers import LSTM, Activation, Dense, Dropout, Input, Embedding\n",
        "from tensorflow.keras.models import Model\n",
        "from tensorflow.keras.optimizers import RMSprop\n",
        "from tensorflow.keras.preprocessing.text import Tokenizer\n",
        "from tensorflow.keras.preprocessing import sequence\n",
        "%matplotlib inline\n",
        "\n",
        "import warnings\n",
        "warnings.filterwarnings(\"ignore\")"
      ],
      "metadata": {
        "id": "-E4TvIVLMa73",
        "scrolled": true,
        "execution": {
          "iopub.status.busy": "2023-04-03T08:06:57.321911Z",
          "iopub.execute_input": "2023-04-03T08:06:57.322357Z",
          "iopub.status.idle": "2023-04-03T08:06:59.98071Z",
          "shell.execute_reply.started": "2023-04-03T08:06:57.322267Z",
          "shell.execute_reply": "2023-04-03T08:06:59.979609Z"
        },
        "trusted": true
      },
      "execution_count": null,
      "outputs": []
    },
    {
      "cell_type": "markdown",
      "source": [
        "<div class=\"alert alert-block alert-danger\">  \n",
        "<h2><center><strong>Loading the data 📁 📂</strong></center></h2>\n",
        "        \n",
        "</div>"
      ],
      "metadata": {
        "papermill": {
          "duration": 0.065466,
          "end_time": "2020-11-30T07:38:51.578836",
          "exception": false,
          "start_time": "2020-11-30T07:38:51.51337",
          "status": "completed"
        },
        "tags": [],
        "id": "njCBulz25Drt"
      }
    },
    {
      "cell_type": "code",
      "source": [
        "data = pd.read_csv(\"/kaggle/input/sentiment140/training.1600000.processed.noemoticon.csv\", encoding = \"ISO-8859-1\", engine=\"python\")\n",
        "data.columns = [\"label\", \"time\", \"date\", \"query\", \"username\", \"text\"]"
      ],
      "metadata": {
        "execution": {
          "iopub.status.busy": "2023-04-03T08:06:59.983151Z",
          "iopub.execute_input": "2023-04-03T08:06:59.983639Z",
          "iopub.status.idle": "2023-04-03T08:07:13.73835Z",
          "shell.execute_reply.started": "2023-04-03T08:06:59.983591Z",
          "shell.execute_reply": "2023-04-03T08:07:13.73733Z"
        },
        "trusted": true,
        "id": "BNQn-gvb5Dru"
      },
      "execution_count": null,
      "outputs": []
    },
    {
      "cell_type": "markdown",
      "source": [
        "<div class=\"alert alert-block alert-danger\">  \n",
        "<h2><center><strong>Exploratory data analysis 🔎 📊</strong></center></h2>\n",
        "        \n",
        "</div>"
      ],
      "metadata": {
        "papermill": {
          "duration": 0.065466,
          "end_time": "2020-11-30T07:38:51.578836",
          "exception": false,
          "start_time": "2020-11-30T07:38:51.51337",
          "status": "completed"
        },
        "tags": [],
        "id": "oGMIPyjj5Dru"
      }
    },
    {
      "cell_type": "markdown",
      "source": [
        "#### Five top records of data"
      ],
      "metadata": {
        "id": "N8kB1-dX5Dru"
      }
    },
    {
      "cell_type": "code",
      "source": [
        "data.head()"
      ],
      "metadata": {
        "execution": {
          "iopub.status.busy": "2023-04-03T08:07:13.740119Z",
          "iopub.execute_input": "2023-04-03T08:07:13.740591Z",
          "iopub.status.idle": "2023-04-03T08:07:13.762702Z",
          "shell.execute_reply.started": "2023-04-03T08:07:13.740542Z",
          "shell.execute_reply": "2023-04-03T08:07:13.761647Z"
        },
        "trusted": true,
        "id": "SRUJ3OOu5Dru",
        "outputId": "8fcfa46b-a30d-40a2-a517-4401f7c3af59",
        "colab": {
          "base_uri": "https://localhost:8080/",
          "height": 206
        }
      },
      "execution_count": null,
      "outputs": [
        {
          "output_type": "execute_result",
          "data": {
            "text/plain": [
              "   label        time                          date     query       username  \\\n",
              "0      0  1467810672  Mon Apr 06 22:19:49 PDT 2009  NO_QUERY  scotthamilton   \n",
              "1      0  1467810917  Mon Apr 06 22:19:53 PDT 2009  NO_QUERY       mattycus   \n",
              "2      0  1467811184  Mon Apr 06 22:19:57 PDT 2009  NO_QUERY        ElleCTF   \n",
              "3      0  1467811193  Mon Apr 06 22:19:57 PDT 2009  NO_QUERY         Karoli   \n",
              "4      0  1467811372  Mon Apr 06 22:20:00 PDT 2009  NO_QUERY       joy_wolf   \n",
              "\n",
              "                                                text  \n",
              "0  is upset that he can't update his Facebook by ...  \n",
              "1  @Kenichan I dived many times for the ball. Man...  \n",
              "2    my whole body feels itchy and like its on fire   \n",
              "3  @nationwideclass no, it's not behaving at all....  \n",
              "4                      @Kwesidei not the whole crew   "
            ],
            "text/html": [
              "\n",
              "  <div id=\"df-2e927e64-006f-4b0d-9e46-5e9a8e2ed9be\" class=\"colab-df-container\">\n",
              "    <div>\n",
              "<style scoped>\n",
              "    .dataframe tbody tr th:only-of-type {\n",
              "        vertical-align: middle;\n",
              "    }\n",
              "\n",
              "    .dataframe tbody tr th {\n",
              "        vertical-align: top;\n",
              "    }\n",
              "\n",
              "    .dataframe thead th {\n",
              "        text-align: right;\n",
              "    }\n",
              "</style>\n",
              "<table border=\"1\" class=\"dataframe\">\n",
              "  <thead>\n",
              "    <tr style=\"text-align: right;\">\n",
              "      <th></th>\n",
              "      <th>label</th>\n",
              "      <th>time</th>\n",
              "      <th>date</th>\n",
              "      <th>query</th>\n",
              "      <th>username</th>\n",
              "      <th>text</th>\n",
              "    </tr>\n",
              "  </thead>\n",
              "  <tbody>\n",
              "    <tr>\n",
              "      <th>0</th>\n",
              "      <td>0</td>\n",
              "      <td>1467810672</td>\n",
              "      <td>Mon Apr 06 22:19:49 PDT 2009</td>\n",
              "      <td>NO_QUERY</td>\n",
              "      <td>scotthamilton</td>\n",
              "      <td>is upset that he can't update his Facebook by ...</td>\n",
              "    </tr>\n",
              "    <tr>\n",
              "      <th>1</th>\n",
              "      <td>0</td>\n",
              "      <td>1467810917</td>\n",
              "      <td>Mon Apr 06 22:19:53 PDT 2009</td>\n",
              "      <td>NO_QUERY</td>\n",
              "      <td>mattycus</td>\n",
              "      <td>@Kenichan I dived many times for the ball. Man...</td>\n",
              "    </tr>\n",
              "    <tr>\n",
              "      <th>2</th>\n",
              "      <td>0</td>\n",
              "      <td>1467811184</td>\n",
              "      <td>Mon Apr 06 22:19:57 PDT 2009</td>\n",
              "      <td>NO_QUERY</td>\n",
              "      <td>ElleCTF</td>\n",
              "      <td>my whole body feels itchy and like its on fire</td>\n",
              "    </tr>\n",
              "    <tr>\n",
              "      <th>3</th>\n",
              "      <td>0</td>\n",
              "      <td>1467811193</td>\n",
              "      <td>Mon Apr 06 22:19:57 PDT 2009</td>\n",
              "      <td>NO_QUERY</td>\n",
              "      <td>Karoli</td>\n",
              "      <td>@nationwideclass no, it's not behaving at all....</td>\n",
              "    </tr>\n",
              "    <tr>\n",
              "      <th>4</th>\n",
              "      <td>0</td>\n",
              "      <td>1467811372</td>\n",
              "      <td>Mon Apr 06 22:20:00 PDT 2009</td>\n",
              "      <td>NO_QUERY</td>\n",
              "      <td>joy_wolf</td>\n",
              "      <td>@Kwesidei not the whole crew</td>\n",
              "    </tr>\n",
              "  </tbody>\n",
              "</table>\n",
              "</div>\n",
              "    <div class=\"colab-df-buttons\">\n",
              "\n",
              "  <div class=\"colab-df-container\">\n",
              "    <button class=\"colab-df-convert\" onclick=\"convertToInteractive('df-2e927e64-006f-4b0d-9e46-5e9a8e2ed9be')\"\n",
              "            title=\"Convert this dataframe to an interactive table.\"\n",
              "            style=\"display:none;\">\n",
              "\n",
              "  <svg xmlns=\"http://www.w3.org/2000/svg\" height=\"24px\" viewBox=\"0 -960 960 960\">\n",
              "    <path d=\"M120-120v-720h720v720H120Zm60-500h600v-160H180v160Zm220 220h160v-160H400v160Zm0 220h160v-160H400v160ZM180-400h160v-160H180v160Zm440 0h160v-160H620v160ZM180-180h160v-160H180v160Zm440 0h160v-160H620v160Z\"/>\n",
              "  </svg>\n",
              "    </button>\n",
              "\n",
              "  <style>\n",
              "    .colab-df-container {\n",
              "      display:flex;\n",
              "      gap: 12px;\n",
              "    }\n",
              "\n",
              "    .colab-df-convert {\n",
              "      background-color: #E8F0FE;\n",
              "      border: none;\n",
              "      border-radius: 50%;\n",
              "      cursor: pointer;\n",
              "      display: none;\n",
              "      fill: #1967D2;\n",
              "      height: 32px;\n",
              "      padding: 0 0 0 0;\n",
              "      width: 32px;\n",
              "    }\n",
              "\n",
              "    .colab-df-convert:hover {\n",
              "      background-color: #E2EBFA;\n",
              "      box-shadow: 0px 1px 2px rgba(60, 64, 67, 0.3), 0px 1px 3px 1px rgba(60, 64, 67, 0.15);\n",
              "      fill: #174EA6;\n",
              "    }\n",
              "\n",
              "    .colab-df-buttons div {\n",
              "      margin-bottom: 4px;\n",
              "    }\n",
              "\n",
              "    [theme=dark] .colab-df-convert {\n",
              "      background-color: #3B4455;\n",
              "      fill: #D2E3FC;\n",
              "    }\n",
              "\n",
              "    [theme=dark] .colab-df-convert:hover {\n",
              "      background-color: #434B5C;\n",
              "      box-shadow: 0px 1px 3px 1px rgba(0, 0, 0, 0.15);\n",
              "      filter: drop-shadow(0px 1px 2px rgba(0, 0, 0, 0.3));\n",
              "      fill: #FFFFFF;\n",
              "    }\n",
              "  </style>\n",
              "\n",
              "    <script>\n",
              "      const buttonEl =\n",
              "        document.querySelector('#df-2e927e64-006f-4b0d-9e46-5e9a8e2ed9be button.colab-df-convert');\n",
              "      buttonEl.style.display =\n",
              "        google.colab.kernel.accessAllowed ? 'block' : 'none';\n",
              "\n",
              "      async function convertToInteractive(key) {\n",
              "        const element = document.querySelector('#df-2e927e64-006f-4b0d-9e46-5e9a8e2ed9be');\n",
              "        const dataTable =\n",
              "          await google.colab.kernel.invokeFunction('convertToInteractive',\n",
              "                                                    [key], {});\n",
              "        if (!dataTable) return;\n",
              "\n",
              "        const docLinkHtml = 'Like what you see? Visit the ' +\n",
              "          '<a target=\"_blank\" href=https://colab.research.google.com/notebooks/data_table.ipynb>data table notebook</a>'\n",
              "          + ' to learn more about interactive tables.';\n",
              "        element.innerHTML = '';\n",
              "        dataTable['output_type'] = 'display_data';\n",
              "        await google.colab.output.renderOutput(dataTable, element);\n",
              "        const docLink = document.createElement('div');\n",
              "        docLink.innerHTML = docLinkHtml;\n",
              "        element.appendChild(docLink);\n",
              "      }\n",
              "    </script>\n",
              "  </div>\n",
              "\n",
              "\n",
              "<div id=\"df-9d1426c6-f8fc-40b0-a412-1c521d3c590e\">\n",
              "  <button class=\"colab-df-quickchart\" onclick=\"quickchart('df-9d1426c6-f8fc-40b0-a412-1c521d3c590e')\"\n",
              "            title=\"Suggest charts\"\n",
              "            style=\"display:none;\">\n",
              "\n",
              "<svg xmlns=\"http://www.w3.org/2000/svg\" height=\"24px\"viewBox=\"0 0 24 24\"\n",
              "     width=\"24px\">\n",
              "    <g>\n",
              "        <path d=\"M19 3H5c-1.1 0-2 .9-2 2v14c0 1.1.9 2 2 2h14c1.1 0 2-.9 2-2V5c0-1.1-.9-2-2-2zM9 17H7v-7h2v7zm4 0h-2V7h2v10zm4 0h-2v-4h2v4z\"/>\n",
              "    </g>\n",
              "</svg>\n",
              "  </button>\n",
              "\n",
              "<style>\n",
              "  .colab-df-quickchart {\n",
              "      --bg-color: #E8F0FE;\n",
              "      --fill-color: #1967D2;\n",
              "      --hover-bg-color: #E2EBFA;\n",
              "      --hover-fill-color: #174EA6;\n",
              "      --disabled-fill-color: #AAA;\n",
              "      --disabled-bg-color: #DDD;\n",
              "  }\n",
              "\n",
              "  [theme=dark] .colab-df-quickchart {\n",
              "      --bg-color: #3B4455;\n",
              "      --fill-color: #D2E3FC;\n",
              "      --hover-bg-color: #434B5C;\n",
              "      --hover-fill-color: #FFFFFF;\n",
              "      --disabled-bg-color: #3B4455;\n",
              "      --disabled-fill-color: #666;\n",
              "  }\n",
              "\n",
              "  .colab-df-quickchart {\n",
              "    background-color: var(--bg-color);\n",
              "    border: none;\n",
              "    border-radius: 50%;\n",
              "    cursor: pointer;\n",
              "    display: none;\n",
              "    fill: var(--fill-color);\n",
              "    height: 32px;\n",
              "    padding: 0;\n",
              "    width: 32px;\n",
              "  }\n",
              "\n",
              "  .colab-df-quickchart:hover {\n",
              "    background-color: var(--hover-bg-color);\n",
              "    box-shadow: 0 1px 2px rgba(60, 64, 67, 0.3), 0 1px 3px 1px rgba(60, 64, 67, 0.15);\n",
              "    fill: var(--button-hover-fill-color);\n",
              "  }\n",
              "\n",
              "  .colab-df-quickchart-complete:disabled,\n",
              "  .colab-df-quickchart-complete:disabled:hover {\n",
              "    background-color: var(--disabled-bg-color);\n",
              "    fill: var(--disabled-fill-color);\n",
              "    box-shadow: none;\n",
              "  }\n",
              "\n",
              "  .colab-df-spinner {\n",
              "    border: 2px solid var(--fill-color);\n",
              "    border-color: transparent;\n",
              "    border-bottom-color: var(--fill-color);\n",
              "    animation:\n",
              "      spin 1s steps(1) infinite;\n",
              "  }\n",
              "\n",
              "  @keyframes spin {\n",
              "    0% {\n",
              "      border-color: transparent;\n",
              "      border-bottom-color: var(--fill-color);\n",
              "      border-left-color: var(--fill-color);\n",
              "    }\n",
              "    20% {\n",
              "      border-color: transparent;\n",
              "      border-left-color: var(--fill-color);\n",
              "      border-top-color: var(--fill-color);\n",
              "    }\n",
              "    30% {\n",
              "      border-color: transparent;\n",
              "      border-left-color: var(--fill-color);\n",
              "      border-top-color: var(--fill-color);\n",
              "      border-right-color: var(--fill-color);\n",
              "    }\n",
              "    40% {\n",
              "      border-color: transparent;\n",
              "      border-right-color: var(--fill-color);\n",
              "      border-top-color: var(--fill-color);\n",
              "    }\n",
              "    60% {\n",
              "      border-color: transparent;\n",
              "      border-right-color: var(--fill-color);\n",
              "    }\n",
              "    80% {\n",
              "      border-color: transparent;\n",
              "      border-right-color: var(--fill-color);\n",
              "      border-bottom-color: var(--fill-color);\n",
              "    }\n",
              "    90% {\n",
              "      border-color: transparent;\n",
              "      border-bottom-color: var(--fill-color);\n",
              "    }\n",
              "  }\n",
              "</style>\n",
              "\n",
              "  <script>\n",
              "    async function quickchart(key) {\n",
              "      const quickchartButtonEl =\n",
              "        document.querySelector('#' + key + ' button');\n",
              "      quickchartButtonEl.disabled = true;  // To prevent multiple clicks.\n",
              "      quickchartButtonEl.classList.add('colab-df-spinner');\n",
              "      try {\n",
              "        const charts = await google.colab.kernel.invokeFunction(\n",
              "            'suggestCharts', [key], {});\n",
              "      } catch (error) {\n",
              "        console.error('Error during call to suggestCharts:', error);\n",
              "      }\n",
              "      quickchartButtonEl.classList.remove('colab-df-spinner');\n",
              "      quickchartButtonEl.classList.add('colab-df-quickchart-complete');\n",
              "    }\n",
              "    (() => {\n",
              "      let quickchartButtonEl =\n",
              "        document.querySelector('#df-9d1426c6-f8fc-40b0-a412-1c521d3c590e button');\n",
              "      quickchartButtonEl.style.display =\n",
              "        google.colab.kernel.accessAllowed ? 'block' : 'none';\n",
              "    })();\n",
              "  </script>\n",
              "</div>\n",
              "\n",
              "    </div>\n",
              "  </div>\n"
            ],
            "application/vnd.google.colaboratory.intrinsic+json": {
              "type": "dataframe",
              "variable_name": "data"
            }
          },
          "metadata": {},
          "execution_count": 8
        }
      ]
    },
    {
      "cell_type": "code",
      "source": [
        "data.tail()"
      ],
      "metadata": {
        "execution": {
          "iopub.status.busy": "2023-04-03T08:07:13.764636Z",
          "iopub.execute_input": "2023-04-03T08:07:13.764971Z",
          "iopub.status.idle": "2023-04-03T08:07:13.780465Z",
          "shell.execute_reply.started": "2023-04-03T08:07:13.764937Z",
          "shell.execute_reply": "2023-04-03T08:07:13.779237Z"
        },
        "trusted": true,
        "id": "gPYcurWH5Dru",
        "outputId": "8fd343ec-b49c-43bc-f483-4e468570fb75",
        "colab": {
          "base_uri": "https://localhost:8080/",
          "height": 293
        }
      },
      "execution_count": null,
      "outputs": [
        {
          "output_type": "execute_result",
          "data": {
            "text/plain": [
              "         label        time                          date     query  \\\n",
              "1599994      4  2193601966  Tue Jun 16 08:40:49 PDT 2009  NO_QUERY   \n",
              "1599995      4  2193601969  Tue Jun 16 08:40:49 PDT 2009  NO_QUERY   \n",
              "1599996      4  2193601991  Tue Jun 16 08:40:49 PDT 2009  NO_QUERY   \n",
              "1599997      4  2193602064  Tue Jun 16 08:40:49 PDT 2009  NO_QUERY   \n",
              "1599998      4  2193602129  Tue Jun 16 08:40:50 PDT 2009  NO_QUERY   \n",
              "\n",
              "                username                                               text  \n",
              "1599994  AmandaMarie1028  Just woke up. Having no school is the best fee...  \n",
              "1599995      TheWDBoards  TheWDB.com - Very cool to hear old Walt interv...  \n",
              "1599996           bpbabe  Are you ready for your MoJo Makeover? Ask me f...  \n",
              "1599997     tinydiamondz  Happy 38th Birthday to my boo of alll time!!! ...  \n",
              "1599998   RyanTrevMorris  happy #charitytuesday @theNSPCC @SparksCharity...  "
            ],
            "text/html": [
              "\n",
              "  <div id=\"df-29eb1727-a417-4575-a8ef-4bf751724027\" class=\"colab-df-container\">\n",
              "    <div>\n",
              "<style scoped>\n",
              "    .dataframe tbody tr th:only-of-type {\n",
              "        vertical-align: middle;\n",
              "    }\n",
              "\n",
              "    .dataframe tbody tr th {\n",
              "        vertical-align: top;\n",
              "    }\n",
              "\n",
              "    .dataframe thead th {\n",
              "        text-align: right;\n",
              "    }\n",
              "</style>\n",
              "<table border=\"1\" class=\"dataframe\">\n",
              "  <thead>\n",
              "    <tr style=\"text-align: right;\">\n",
              "      <th></th>\n",
              "      <th>label</th>\n",
              "      <th>time</th>\n",
              "      <th>date</th>\n",
              "      <th>query</th>\n",
              "      <th>username</th>\n",
              "      <th>text</th>\n",
              "    </tr>\n",
              "  </thead>\n",
              "  <tbody>\n",
              "    <tr>\n",
              "      <th>1599994</th>\n",
              "      <td>4</td>\n",
              "      <td>2193601966</td>\n",
              "      <td>Tue Jun 16 08:40:49 PDT 2009</td>\n",
              "      <td>NO_QUERY</td>\n",
              "      <td>AmandaMarie1028</td>\n",
              "      <td>Just woke up. Having no school is the best fee...</td>\n",
              "    </tr>\n",
              "    <tr>\n",
              "      <th>1599995</th>\n",
              "      <td>4</td>\n",
              "      <td>2193601969</td>\n",
              "      <td>Tue Jun 16 08:40:49 PDT 2009</td>\n",
              "      <td>NO_QUERY</td>\n",
              "      <td>TheWDBoards</td>\n",
              "      <td>TheWDB.com - Very cool to hear old Walt interv...</td>\n",
              "    </tr>\n",
              "    <tr>\n",
              "      <th>1599996</th>\n",
              "      <td>4</td>\n",
              "      <td>2193601991</td>\n",
              "      <td>Tue Jun 16 08:40:49 PDT 2009</td>\n",
              "      <td>NO_QUERY</td>\n",
              "      <td>bpbabe</td>\n",
              "      <td>Are you ready for your MoJo Makeover? Ask me f...</td>\n",
              "    </tr>\n",
              "    <tr>\n",
              "      <th>1599997</th>\n",
              "      <td>4</td>\n",
              "      <td>2193602064</td>\n",
              "      <td>Tue Jun 16 08:40:49 PDT 2009</td>\n",
              "      <td>NO_QUERY</td>\n",
              "      <td>tinydiamondz</td>\n",
              "      <td>Happy 38th Birthday to my boo of alll time!!! ...</td>\n",
              "    </tr>\n",
              "    <tr>\n",
              "      <th>1599998</th>\n",
              "      <td>4</td>\n",
              "      <td>2193602129</td>\n",
              "      <td>Tue Jun 16 08:40:50 PDT 2009</td>\n",
              "      <td>NO_QUERY</td>\n",
              "      <td>RyanTrevMorris</td>\n",
              "      <td>happy #charitytuesday @theNSPCC @SparksCharity...</td>\n",
              "    </tr>\n",
              "  </tbody>\n",
              "</table>\n",
              "</div>\n",
              "    <div class=\"colab-df-buttons\">\n",
              "\n",
              "  <div class=\"colab-df-container\">\n",
              "    <button class=\"colab-df-convert\" onclick=\"convertToInteractive('df-29eb1727-a417-4575-a8ef-4bf751724027')\"\n",
              "            title=\"Convert this dataframe to an interactive table.\"\n",
              "            style=\"display:none;\">\n",
              "\n",
              "  <svg xmlns=\"http://www.w3.org/2000/svg\" height=\"24px\" viewBox=\"0 -960 960 960\">\n",
              "    <path d=\"M120-120v-720h720v720H120Zm60-500h600v-160H180v160Zm220 220h160v-160H400v160Zm0 220h160v-160H400v160ZM180-400h160v-160H180v160Zm440 0h160v-160H620v160ZM180-180h160v-160H180v160Zm440 0h160v-160H620v160Z\"/>\n",
              "  </svg>\n",
              "    </button>\n",
              "\n",
              "  <style>\n",
              "    .colab-df-container {\n",
              "      display:flex;\n",
              "      gap: 12px;\n",
              "    }\n",
              "\n",
              "    .colab-df-convert {\n",
              "      background-color: #E8F0FE;\n",
              "      border: none;\n",
              "      border-radius: 50%;\n",
              "      cursor: pointer;\n",
              "      display: none;\n",
              "      fill: #1967D2;\n",
              "      height: 32px;\n",
              "      padding: 0 0 0 0;\n",
              "      width: 32px;\n",
              "    }\n",
              "\n",
              "    .colab-df-convert:hover {\n",
              "      background-color: #E2EBFA;\n",
              "      box-shadow: 0px 1px 2px rgba(60, 64, 67, 0.3), 0px 1px 3px 1px rgba(60, 64, 67, 0.15);\n",
              "      fill: #174EA6;\n",
              "    }\n",
              "\n",
              "    .colab-df-buttons div {\n",
              "      margin-bottom: 4px;\n",
              "    }\n",
              "\n",
              "    [theme=dark] .colab-df-convert {\n",
              "      background-color: #3B4455;\n",
              "      fill: #D2E3FC;\n",
              "    }\n",
              "\n",
              "    [theme=dark] .colab-df-convert:hover {\n",
              "      background-color: #434B5C;\n",
              "      box-shadow: 0px 1px 3px 1px rgba(0, 0, 0, 0.15);\n",
              "      filter: drop-shadow(0px 1px 2px rgba(0, 0, 0, 0.3));\n",
              "      fill: #FFFFFF;\n",
              "    }\n",
              "  </style>\n",
              "\n",
              "    <script>\n",
              "      const buttonEl =\n",
              "        document.querySelector('#df-29eb1727-a417-4575-a8ef-4bf751724027 button.colab-df-convert');\n",
              "      buttonEl.style.display =\n",
              "        google.colab.kernel.accessAllowed ? 'block' : 'none';\n",
              "\n",
              "      async function convertToInteractive(key) {\n",
              "        const element = document.querySelector('#df-29eb1727-a417-4575-a8ef-4bf751724027');\n",
              "        const dataTable =\n",
              "          await google.colab.kernel.invokeFunction('convertToInteractive',\n",
              "                                                    [key], {});\n",
              "        if (!dataTable) return;\n",
              "\n",
              "        const docLinkHtml = 'Like what you see? Visit the ' +\n",
              "          '<a target=\"_blank\" href=https://colab.research.google.com/notebooks/data_table.ipynb>data table notebook</a>'\n",
              "          + ' to learn more about interactive tables.';\n",
              "        element.innerHTML = '';\n",
              "        dataTable['output_type'] = 'display_data';\n",
              "        await google.colab.output.renderOutput(dataTable, element);\n",
              "        const docLink = document.createElement('div');\n",
              "        docLink.innerHTML = docLinkHtml;\n",
              "        element.appendChild(docLink);\n",
              "      }\n",
              "    </script>\n",
              "  </div>\n",
              "\n",
              "\n",
              "<div id=\"df-4d2a23c7-ffbe-4998-b7c7-91cf77a6ad4a\">\n",
              "  <button class=\"colab-df-quickchart\" onclick=\"quickchart('df-4d2a23c7-ffbe-4998-b7c7-91cf77a6ad4a')\"\n",
              "            title=\"Suggest charts\"\n",
              "            style=\"display:none;\">\n",
              "\n",
              "<svg xmlns=\"http://www.w3.org/2000/svg\" height=\"24px\"viewBox=\"0 0 24 24\"\n",
              "     width=\"24px\">\n",
              "    <g>\n",
              "        <path d=\"M19 3H5c-1.1 0-2 .9-2 2v14c0 1.1.9 2 2 2h14c1.1 0 2-.9 2-2V5c0-1.1-.9-2-2-2zM9 17H7v-7h2v7zm4 0h-2V7h2v10zm4 0h-2v-4h2v4z\"/>\n",
              "    </g>\n",
              "</svg>\n",
              "  </button>\n",
              "\n",
              "<style>\n",
              "  .colab-df-quickchart {\n",
              "      --bg-color: #E8F0FE;\n",
              "      --fill-color: #1967D2;\n",
              "      --hover-bg-color: #E2EBFA;\n",
              "      --hover-fill-color: #174EA6;\n",
              "      --disabled-fill-color: #AAA;\n",
              "      --disabled-bg-color: #DDD;\n",
              "  }\n",
              "\n",
              "  [theme=dark] .colab-df-quickchart {\n",
              "      --bg-color: #3B4455;\n",
              "      --fill-color: #D2E3FC;\n",
              "      --hover-bg-color: #434B5C;\n",
              "      --hover-fill-color: #FFFFFF;\n",
              "      --disabled-bg-color: #3B4455;\n",
              "      --disabled-fill-color: #666;\n",
              "  }\n",
              "\n",
              "  .colab-df-quickchart {\n",
              "    background-color: var(--bg-color);\n",
              "    border: none;\n",
              "    border-radius: 50%;\n",
              "    cursor: pointer;\n",
              "    display: none;\n",
              "    fill: var(--fill-color);\n",
              "    height: 32px;\n",
              "    padding: 0;\n",
              "    width: 32px;\n",
              "  }\n",
              "\n",
              "  .colab-df-quickchart:hover {\n",
              "    background-color: var(--hover-bg-color);\n",
              "    box-shadow: 0 1px 2px rgba(60, 64, 67, 0.3), 0 1px 3px 1px rgba(60, 64, 67, 0.15);\n",
              "    fill: var(--button-hover-fill-color);\n",
              "  }\n",
              "\n",
              "  .colab-df-quickchart-complete:disabled,\n",
              "  .colab-df-quickchart-complete:disabled:hover {\n",
              "    background-color: var(--disabled-bg-color);\n",
              "    fill: var(--disabled-fill-color);\n",
              "    box-shadow: none;\n",
              "  }\n",
              "\n",
              "  .colab-df-spinner {\n",
              "    border: 2px solid var(--fill-color);\n",
              "    border-color: transparent;\n",
              "    border-bottom-color: var(--fill-color);\n",
              "    animation:\n",
              "      spin 1s steps(1) infinite;\n",
              "  }\n",
              "\n",
              "  @keyframes spin {\n",
              "    0% {\n",
              "      border-color: transparent;\n",
              "      border-bottom-color: var(--fill-color);\n",
              "      border-left-color: var(--fill-color);\n",
              "    }\n",
              "    20% {\n",
              "      border-color: transparent;\n",
              "      border-left-color: var(--fill-color);\n",
              "      border-top-color: var(--fill-color);\n",
              "    }\n",
              "    30% {\n",
              "      border-color: transparent;\n",
              "      border-left-color: var(--fill-color);\n",
              "      border-top-color: var(--fill-color);\n",
              "      border-right-color: var(--fill-color);\n",
              "    }\n",
              "    40% {\n",
              "      border-color: transparent;\n",
              "      border-right-color: var(--fill-color);\n",
              "      border-top-color: var(--fill-color);\n",
              "    }\n",
              "    60% {\n",
              "      border-color: transparent;\n",
              "      border-right-color: var(--fill-color);\n",
              "    }\n",
              "    80% {\n",
              "      border-color: transparent;\n",
              "      border-right-color: var(--fill-color);\n",
              "      border-bottom-color: var(--fill-color);\n",
              "    }\n",
              "    90% {\n",
              "      border-color: transparent;\n",
              "      border-bottom-color: var(--fill-color);\n",
              "    }\n",
              "  }\n",
              "</style>\n",
              "\n",
              "  <script>\n",
              "    async function quickchart(key) {\n",
              "      const quickchartButtonEl =\n",
              "        document.querySelector('#' + key + ' button');\n",
              "      quickchartButtonEl.disabled = true;  // To prevent multiple clicks.\n",
              "      quickchartButtonEl.classList.add('colab-df-spinner');\n",
              "      try {\n",
              "        const charts = await google.colab.kernel.invokeFunction(\n",
              "            'suggestCharts', [key], {});\n",
              "      } catch (error) {\n",
              "        console.error('Error during call to suggestCharts:', error);\n",
              "      }\n",
              "      quickchartButtonEl.classList.remove('colab-df-spinner');\n",
              "      quickchartButtonEl.classList.add('colab-df-quickchart-complete');\n",
              "    }\n",
              "    (() => {\n",
              "      let quickchartButtonEl =\n",
              "        document.querySelector('#df-4d2a23c7-ffbe-4998-b7c7-91cf77a6ad4a button');\n",
              "      quickchartButtonEl.style.display =\n",
              "        google.colab.kernel.accessAllowed ? 'block' : 'none';\n",
              "    })();\n",
              "  </script>\n",
              "</div>\n",
              "\n",
              "    </div>\n",
              "  </div>\n"
            ],
            "application/vnd.google.colaboratory.intrinsic+json": {
              "type": "dataframe",
              "repr_error": "0"
            }
          },
          "metadata": {},
          "execution_count": 9
        }
      ]
    },
    {
      "cell_type": "markdown",
      "source": [
        "#### Coloumns/features in data"
      ],
      "metadata": {
        "id": "kCuo9Xfz5Drv"
      }
    },
    {
      "cell_type": "code",
      "source": [
        "data.columns"
      ],
      "metadata": {
        "execution": {
          "iopub.status.busy": "2023-04-03T08:07:13.784219Z",
          "iopub.execute_input": "2023-04-03T08:07:13.784702Z",
          "iopub.status.idle": "2023-04-03T08:07:13.792982Z",
          "shell.execute_reply.started": "2023-04-03T08:07:13.784653Z",
          "shell.execute_reply": "2023-04-03T08:07:13.791936Z"
        },
        "trusted": true,
        "id": "NFTSmedT5Drv",
        "outputId": "6d35dff4-9ca0-42af-f1d5-31b54cda3fe3",
        "colab": {
          "base_uri": "https://localhost:8080/"
        }
      },
      "execution_count": null,
      "outputs": [
        {
          "output_type": "execute_result",
          "data": {
            "text/plain": [
              "Index(['label', 'time', 'date', 'query', 'username', 'text'], dtype='object')"
            ]
          },
          "metadata": {},
          "execution_count": 10
        }
      ]
    },
    {
      "cell_type": "markdown",
      "source": [
        "#### Length of data"
      ],
      "metadata": {
        "id": "2NQscyNp5Drv"
      }
    },
    {
      "cell_type": "code",
      "source": [
        "print('lenght of data is', len(data))"
      ],
      "metadata": {
        "execution": {
          "iopub.status.busy": "2023-04-03T08:07:13.796678Z",
          "iopub.execute_input": "2023-04-03T08:07:13.797052Z",
          "iopub.status.idle": "2023-04-03T08:07:13.803593Z",
          "shell.execute_reply.started": "2023-04-03T08:07:13.797017Z",
          "shell.execute_reply": "2023-04-03T08:07:13.802494Z"
        },
        "trusted": true,
        "id": "LAI0RvyC5Drv",
        "outputId": "daa11c70-0cb5-4446-c7f8-311f906e8d55",
        "colab": {
          "base_uri": "https://localhost:8080/"
        }
      },
      "execution_count": null,
      "outputs": [
        {
          "output_type": "stream",
          "name": "stdout",
          "text": [
            "lenght of data is 1599999\n"
          ]
        }
      ]
    },
    {
      "cell_type": "markdown",
      "source": [
        "#### Shape of data"
      ],
      "metadata": {
        "id": "ODG2GRbR5Drv"
      }
    },
    {
      "cell_type": "code",
      "source": [
        "data.shape"
      ],
      "metadata": {
        "execution": {
          "iopub.status.busy": "2023-04-03T08:07:13.805374Z",
          "iopub.execute_input": "2023-04-03T08:07:13.805803Z",
          "iopub.status.idle": "2023-04-03T08:07:13.814158Z",
          "shell.execute_reply.started": "2023-04-03T08:07:13.805768Z",
          "shell.execute_reply": "2023-04-03T08:07:13.813064Z"
        },
        "trusted": true,
        "id": "_-DLOyLO5Drv",
        "outputId": "ee48d7c4-dc04-45ad-88e3-a17d59717048",
        "colab": {
          "base_uri": "https://localhost:8080/"
        }
      },
      "execution_count": null,
      "outputs": [
        {
          "output_type": "execute_result",
          "data": {
            "text/plain": [
              "(1599999, 6)"
            ]
          },
          "metadata": {},
          "execution_count": 12
        }
      ]
    },
    {
      "cell_type": "markdown",
      "source": [
        "#### Data information"
      ],
      "metadata": {
        "id": "J9wrelDK5Drv"
      }
    },
    {
      "cell_type": "code",
      "source": [
        "data.info()"
      ],
      "metadata": {
        "execution": {
          "iopub.status.busy": "2023-04-03T08:07:13.815243Z",
          "iopub.execute_input": "2023-04-03T08:07:13.815585Z",
          "iopub.status.idle": "2023-04-03T08:07:14.392341Z",
          "shell.execute_reply.started": "2023-04-03T08:07:13.815553Z",
          "shell.execute_reply": "2023-04-03T08:07:14.391313Z"
        },
        "trusted": true,
        "id": "nRVT7Zv75Drv",
        "outputId": "b589ef37-c123-4570-f678-512f4ff3d759",
        "colab": {
          "base_uri": "https://localhost:8080/"
        }
      },
      "execution_count": null,
      "outputs": [
        {
          "output_type": "stream",
          "name": "stdout",
          "text": [
            "<class 'pandas.core.frame.DataFrame'>\n",
            "RangeIndex: 1599999 entries, 0 to 1599998\n",
            "Data columns (total 6 columns):\n",
            " #   Column    Non-Null Count    Dtype \n",
            "---  ------    --------------    ----- \n",
            " 0   label     1599999 non-null  int64 \n",
            " 1   time      1599999 non-null  int64 \n",
            " 2   date      1599999 non-null  object\n",
            " 3   query     1599999 non-null  object\n",
            " 4   username  1599999 non-null  object\n",
            " 5   text      1599999 non-null  object\n",
            "dtypes: int64(2), object(4)\n",
            "memory usage: 73.2+ MB\n"
          ]
        }
      ]
    },
    {
      "cell_type": "markdown",
      "source": [
        "#### Data types of all coloumns"
      ],
      "metadata": {
        "id": "XWVIvha-5Drw"
      }
    },
    {
      "cell_type": "code",
      "source": [
        "data.dtypes"
      ],
      "metadata": {
        "execution": {
          "iopub.status.busy": "2023-04-03T08:07:14.393621Z",
          "iopub.execute_input": "2023-04-03T08:07:14.393912Z",
          "iopub.status.idle": "2023-04-03T08:07:14.402041Z",
          "shell.execute_reply.started": "2023-04-03T08:07:14.393884Z",
          "shell.execute_reply": "2023-04-03T08:07:14.400877Z"
        },
        "trusted": true,
        "id": "0M6oC1Qk5Drw",
        "outputId": "48b654d1-0bb4-49f0-8591-cdc1892c0ded",
        "colab": {
          "base_uri": "https://localhost:8080/"
        }
      },
      "execution_count": null,
      "outputs": [
        {
          "output_type": "execute_result",
          "data": {
            "text/plain": [
              "label        int64\n",
              "time         int64\n",
              "date        object\n",
              "query       object\n",
              "username    object\n",
              "text        object\n",
              "dtype: object"
            ]
          },
          "metadata": {},
          "execution_count": 14
        }
      ]
    },
    {
      "cell_type": "markdown",
      "source": [
        "#### Checking Null values"
      ],
      "metadata": {
        "id": "bkWFqVat5Drw"
      }
    },
    {
      "cell_type": "code",
      "source": [
        "np.sum(data.isnull().any(axis=1))"
      ],
      "metadata": {
        "scrolled": true,
        "execution": {
          "iopub.status.busy": "2023-04-03T08:07:14.403805Z",
          "iopub.execute_input": "2023-04-03T08:07:14.404144Z",
          "iopub.status.idle": "2023-04-03T08:07:14.972744Z",
          "shell.execute_reply.started": "2023-04-03T08:07:14.40411Z",
          "shell.execute_reply": "2023-04-03T08:07:14.971602Z"
        },
        "trusted": true,
        "id": "Aa4pQGpq5Drw",
        "outputId": "cee35885-2061-4665-9d49-0ba4e0be6bb8",
        "colab": {
          "base_uri": "https://localhost:8080/"
        }
      },
      "execution_count": null,
      "outputs": [
        {
          "output_type": "execute_result",
          "data": {
            "text/plain": [
              "0"
            ]
          },
          "metadata": {},
          "execution_count": 15
        }
      ]
    },
    {
      "cell_type": "markdown",
      "source": [
        "#### Rows and columns in the dataset"
      ],
      "metadata": {
        "id": "C5IhspI55Drx"
      }
    },
    {
      "cell_type": "code",
      "source": [
        "print('Count of columns in the data is:  ', len(data.columns))"
      ],
      "metadata": {
        "execution": {
          "iopub.status.busy": "2023-04-03T08:07:14.974572Z",
          "iopub.execute_input": "2023-04-03T08:07:14.974909Z",
          "iopub.status.idle": "2023-04-03T08:07:14.981879Z",
          "shell.execute_reply.started": "2023-04-03T08:07:14.974875Z",
          "shell.execute_reply": "2023-04-03T08:07:14.980766Z"
        },
        "trusted": true,
        "id": "lg6nb53Y5Drx",
        "outputId": "4a187b06-4843-4e32-d222-5e74d910b33b",
        "colab": {
          "base_uri": "https://localhost:8080/"
        }
      },
      "execution_count": null,
      "outputs": [
        {
          "output_type": "stream",
          "name": "stdout",
          "text": [
            "Count of columns in the data is:   6\n"
          ]
        }
      ]
    },
    {
      "cell_type": "code",
      "source": [
        "print('Count of rows in the data is:  ', len(data))"
      ],
      "metadata": {
        "execution": {
          "iopub.status.busy": "2023-04-03T08:07:14.983366Z",
          "iopub.execute_input": "2023-04-03T08:07:14.983888Z",
          "iopub.status.idle": "2023-04-03T08:07:14.993506Z",
          "shell.execute_reply.started": "2023-04-03T08:07:14.983832Z",
          "shell.execute_reply": "2023-04-03T08:07:14.992527Z"
        },
        "trusted": true,
        "id": "na7ADfOY5Drx",
        "outputId": "a914d756-dcc1-46a9-fe38-4a7e16a0a7a2",
        "colab": {
          "base_uri": "https://localhost:8080/"
        }
      },
      "execution_count": null,
      "outputs": [
        {
          "output_type": "stream",
          "name": "stdout",
          "text": [
            "Count of rows in the data is:   1599999\n"
          ]
        }
      ]
    },
    {
      "cell_type": "markdown",
      "source": [
        "<div class=\"alert alert-block alert-danger\">  \n",
        "<h1><center><strong>Data Preparation 📝</strong></center></h1>\n",
        "\n",
        " <ul style=\"list-style-type:circle;\">\n",
        "     <h6>\n",
        "         <li>Selection of interested coloumns</li>\n",
        "         <br>\n",
        "          <li>Assinged 1 to class 4</li>\n",
        "         <br>\n",
        "          <li>Took one fourth data so we can run on our machine easily</li>\n",
        "         <br>\n",
        "          <li>Combined positive and negative tweets</li>\n",
        "         <br>\n",
        "    <li>We will convert the text in lower case for the further working on tweet text. </li>\n",
        "         <br>\n",
        "         <li>We will clean and remove the stop words(of, a, in etc) from statement because these words are not useuseful to support the labels of sentiments  data</li>\n",
        "<br>\n",
        "         <li>We will clean and remove the punctuations because these are the noise in the data and not meaningfull</li>\n",
        "         <br>\n",
        "         <li>We will clean and remove repeating characters in the words</li>\n",
        "         <br>\n",
        "         <li>We will clean and remove emails</li>\n",
        "         <br>\n",
        "         <li>We will clean and remove URL's</li>\n",
        "         <br>\n",
        "         <li>We will clean and remove the numbers in the data</li>\n",
        "         <br>\n",
        "         <li>We will apply tokenization(to separate the sentence into words)</li>\n",
        "         <br>\n",
        "         <li>We will apply stemming and lemmatization on the text. The concept of both is following:</li>\n",
        "         <img src=\"htts://lh3.googleusercontent.com/3wumK8lGLhKpD2Fhbu35I7wWf6OSpF_erX9T7FX9WQCE5_HBKMJpKOZNximlzlTG5882QUWcL-_lFLJd0-RIo4uHDaO7cK8aEnw2Tm2-5xPwjYS3ls6fYefeGAVGb1WUGrXafJrC\">\n",
        "          <br>\n",
        "         <li>We will apply stemming on the tweet text.</li>\n",
        "         <br>\n",
        "         <li>We will apply lemmatization on the tweet text.</li>\n",
        "         <br>\n",
        "         <li>Separated input feature and labels</li>\n",
        "         <br>\n",
        "         <li>Extracted features from input feature</li>\n",
        "         <br>\n",
        "         <li>Separated the 70% data for training and 30% data for testing</li>\n",
        "</h6>\n",
        "</ul>\n",
        "   \n",
        "        \n",
        "</div>"
      ],
      "metadata": {
        "papermill": {
          "duration": 0.065466,
          "end_time": "2020-11-30T07:38:51.578836",
          "exception": false,
          "start_time": "2020-11-30T07:38:51.51337",
          "status": "completed"
        },
        "tags": [],
        "id": "c9CDQctX5Drx"
      }
    },
    {
      "cell_type": "markdown",
      "source": [
        "#### Selecting the text and label coloumn"
      ],
      "metadata": {
        "id": "VXd6WTo15Dry"
      }
    },
    {
      "cell_type": "code",
      "source": [
        "data=data[['text','label']]"
      ],
      "metadata": {
        "execution": {
          "iopub.status.busy": "2023-04-03T08:07:14.995782Z",
          "iopub.execute_input": "2023-04-03T08:07:14.996112Z",
          "iopub.status.idle": "2023-04-03T08:07:15.040576Z",
          "shell.execute_reply.started": "2023-04-03T08:07:14.99608Z",
          "shell.execute_reply": "2023-04-03T08:07:15.039479Z"
        },
        "trusted": true,
        "id": "LzUpAk575Dry"
      },
      "execution_count": null,
      "outputs": []
    },
    {
      "cell_type": "markdown",
      "source": [
        "#### Assigning 1 to Positive sentment 4"
      ],
      "metadata": {
        "id": "lppCDowm5Dry"
      }
    },
    {
      "cell_type": "code",
      "source": [
        "data['label'][data['label']==4]=1"
      ],
      "metadata": {
        "execution": {
          "iopub.status.busy": "2023-04-03T08:07:15.041931Z",
          "iopub.execute_input": "2023-04-03T08:07:15.042427Z",
          "iopub.status.idle": "2023-04-03T08:07:15.066103Z",
          "shell.execute_reply.started": "2023-04-03T08:07:15.04239Z",
          "shell.execute_reply": "2023-04-03T08:07:15.065109Z"
        },
        "trusted": true,
        "id": "_zjNmq4h5Dry"
      },
      "execution_count": null,
      "outputs": []
    },
    {
      "cell_type": "markdown",
      "source": [
        "#### Separating positive and negative tweets"
      ],
      "metadata": {
        "id": "Ys5fmWP-5Dry"
      }
    },
    {
      "cell_type": "code",
      "source": [
        "data_pos = data[data['label'] == 1]\n",
        "data_neg = data[data['label'] == 0]"
      ],
      "metadata": {
        "execution": {
          "iopub.status.busy": "2023-04-03T08:07:15.067486Z",
          "iopub.execute_input": "2023-04-03T08:07:15.067842Z",
          "iopub.status.idle": "2023-04-03T08:07:15.168447Z",
          "shell.execute_reply.started": "2023-04-03T08:07:15.067809Z",
          "shell.execute_reply": "2023-04-03T08:07:15.167498Z"
        },
        "trusted": true,
        "id": "LCpEhW3f5Dry"
      },
      "execution_count": null,
      "outputs": []
    },
    {
      "cell_type": "markdown",
      "source": [
        "#### taking one fourth data so we can run on our machine easily"
      ],
      "metadata": {
        "id": "3pj7FoBO5Dry"
      }
    },
    {
      "cell_type": "code",
      "source": [
        "data_pos = data_pos.iloc[:int(40000)]\n",
        "data_neg = data_neg.iloc[:int(40000)]"
      ],
      "metadata": {
        "execution": {
          "iopub.status.busy": "2023-04-03T08:07:15.169595Z",
          "iopub.execute_input": "2023-04-03T08:07:15.169896Z",
          "iopub.status.idle": "2023-04-03T08:07:15.175035Z",
          "shell.execute_reply.started": "2023-04-03T08:07:15.169867Z",
          "shell.execute_reply": "2023-04-03T08:07:15.174154Z"
        },
        "trusted": true,
        "id": "LP6GHLp85Dr4"
      },
      "execution_count": null,
      "outputs": []
    },
    {
      "cell_type": "markdown",
      "source": [
        "#### Combining positive and negative tweets"
      ],
      "metadata": {
        "id": "FNEaF0Wi5Dr4"
      }
    },
    {
      "cell_type": "code",
      "source": [
        "data = pd.concat([data_pos, data_neg])"
      ],
      "metadata": {
        "execution": {
          "iopub.status.busy": "2023-04-03T08:07:15.176355Z",
          "iopub.execute_input": "2023-04-03T08:07:15.176637Z",
          "iopub.status.idle": "2023-04-03T08:07:15.206969Z",
          "shell.execute_reply.started": "2023-04-03T08:07:15.176609Z",
          "shell.execute_reply": "2023-04-03T08:07:15.205999Z"
        },
        "trusted": true,
        "id": "ZoJbRuuP5Dr4"
      },
      "execution_count": null,
      "outputs": []
    },
    {
      "cell_type": "markdown",
      "source": [
        "#### Making statement text in lower case"
      ],
      "metadata": {
        "id": "iy2yWhsl5Dr4"
      }
    },
    {
      "cell_type": "code",
      "source": [
        "data['text']=data['text'].str.lower()"
      ],
      "metadata": {
        "execution": {
          "iopub.status.busy": "2023-04-03T08:07:15.208452Z",
          "iopub.execute_input": "2023-04-03T08:07:15.208755Z",
          "iopub.status.idle": "2023-04-03T08:07:15.243452Z",
          "shell.execute_reply.started": "2023-04-03T08:07:15.208726Z",
          "shell.execute_reply": "2023-04-03T08:07:15.242469Z"
        },
        "trusted": true,
        "id": "o1ehXy8k5Dr5"
      },
      "execution_count": null,
      "outputs": []
    },
    {
      "cell_type": "code",
      "source": [
        "data['text'].tail()"
      ],
      "metadata": {
        "execution": {
          "iopub.status.busy": "2023-04-03T08:07:15.245207Z",
          "iopub.execute_input": "2023-04-03T08:07:15.245653Z",
          "iopub.status.idle": "2023-04-03T08:07:15.256487Z",
          "shell.execute_reply.started": "2023-04-03T08:07:15.245604Z",
          "shell.execute_reply": "2023-04-03T08:07:15.255624Z"
        },
        "trusted": true,
        "id": "mei9ZnYg5Dr5",
        "outputId": "057b0285-6f7b-466b-ad5d-035707fca5fd",
        "colab": {
          "base_uri": "https://localhost:8080/"
        }
      },
      "execution_count": null,
      "outputs": [
        {
          "output_type": "execute_result",
          "data": {
            "text/plain": [
              "39995    @mittec no problems with it as such but i had ...\n",
              "39996                                          ow my head \n",
              "39997    anyway... not particularly looking foreward to...\n",
              "39998    allergies or insomnia? doesn't matter the reason \n",
              "39999    @scottcabal i'm working in the the evening  bu...\n",
              "Name: text, dtype: object"
            ]
          },
          "metadata": {},
          "execution_count": 24
        }
      ]
    },
    {
      "cell_type": "markdown",
      "source": [
        "#### Cleaning and removing Stop words of english"
      ],
      "metadata": {
        "id": "F_I3XcfW5Dr5"
      }
    },
    {
      "cell_type": "code",
      "source": [
        "# stopwords_list = stopwords.words('english')\n",
        "import nltk\n",
        "nltk.download('stopwords')"
      ],
      "metadata": {
        "execution": {
          "iopub.status.busy": "2023-04-03T08:07:15.258042Z",
          "iopub.execute_input": "2023-04-03T08:07:15.258676Z",
          "iopub.status.idle": "2023-04-03T08:07:15.270584Z",
          "shell.execute_reply.started": "2023-04-03T08:07:15.25864Z",
          "shell.execute_reply": "2023-04-03T08:07:15.269641Z"
        },
        "trusted": true,
        "id": "3XY3vgdI5Dr5",
        "outputId": "cf100dff-d751-4e29-c848-63912a6f2232",
        "colab": {
          "base_uri": "https://localhost:8080/"
        }
      },
      "execution_count": null,
      "outputs": [
        {
          "output_type": "stream",
          "name": "stderr",
          "text": [
            "[nltk_data] Downloading package stopwords to /root/nltk_data...\n",
            "[nltk_data]   Package stopwords is already up-to-date!\n"
          ]
        },
        {
          "output_type": "execute_result",
          "data": {
            "text/plain": [
              "True"
            ]
          },
          "metadata": {},
          "execution_count": 25
        }
      ]
    },
    {
      "cell_type": "code",
      "source": [
        "from nltk.corpus import stopwords\n",
        "\", \".join(stopwords.words('english'))"
      ],
      "metadata": {
        "execution": {
          "iopub.status.busy": "2023-04-03T08:07:15.272091Z",
          "iopub.execute_input": "2023-04-03T08:07:15.273049Z",
          "iopub.status.idle": "2023-04-03T08:07:15.28871Z",
          "shell.execute_reply.started": "2023-04-03T08:07:15.272988Z",
          "shell.execute_reply": "2023-04-03T08:07:15.287079Z"
        },
        "trusted": true,
        "id": "MwYH3PCY5Dr5",
        "outputId": "2e395a1f-e91f-474c-fbbd-34c9f474a10e",
        "colab": {
          "base_uri": "https://localhost:8080/",
          "height": 165
        }
      },
      "execution_count": null,
      "outputs": [
        {
          "output_type": "execute_result",
          "data": {
            "text/plain": [
              "\"i, me, my, myself, we, our, ours, ourselves, you, you're, you've, you'll, you'd, your, yours, yourself, yourselves, he, him, his, himself, she, she's, her, hers, herself, it, it's, its, itself, they, them, their, theirs, themselves, what, which, who, whom, this, that, that'll, these, those, am, is, are, was, were, be, been, being, have, has, had, having, do, does, did, doing, a, an, the, and, but, if, or, because, as, until, while, of, at, by, for, with, about, against, between, into, through, during, before, after, above, below, to, from, up, down, in, out, on, off, over, under, again, further, then, once, here, there, when, where, why, how, all, any, both, each, few, more, most, other, some, such, no, nor, not, only, own, same, so, than, too, very, s, t, can, will, just, don, don't, should, should've, now, d, ll, m, o, re, ve, y, ain, aren, aren't, couldn, couldn't, didn, didn't, doesn, doesn't, hadn, hadn't, hasn, hasn't, haven, haven't, isn, isn't, ma, mightn, mightn't, mustn, mustn't, needn, needn't, shan, shan't, shouldn, shouldn't, wasn, wasn't, weren, weren't, won, won't, wouldn, wouldn't\""
            ],
            "application/vnd.google.colaboratory.intrinsic+json": {
              "type": "string"
            }
          },
          "metadata": {},
          "execution_count": 26
        }
      ]
    },
    {
      "cell_type": "markdown",
      "source": [
        "#### Cleaning and removing the above stop words list from the tweet text"
      ],
      "metadata": {
        "id": "XMb5HVm-5Dr5"
      }
    },
    {
      "cell_type": "code",
      "source": [
        "STOPWORDS = set(stopwords.words('english'))\n",
        "def cleaning_stopwords(text):\n",
        "    return \" \".join([word for word in str(text).split() if word not in STOPWORDS])\n",
        "data['text'] = data['text'].apply(lambda text: cleaning_stopwords(text))\n",
        "data['text'].head()"
      ],
      "metadata": {
        "execution": {
          "iopub.status.busy": "2023-04-03T08:07:15.290786Z",
          "iopub.execute_input": "2023-04-03T08:07:15.291649Z",
          "iopub.status.idle": "2023-04-03T08:07:15.453946Z",
          "shell.execute_reply.started": "2023-04-03T08:07:15.2916Z",
          "shell.execute_reply": "2023-04-03T08:07:15.452724Z"
        },
        "trusted": true,
        "id": "fk8oEOJO5Dr6",
        "outputId": "d73583e6-0842-4b15-fad0-beb9dc0ab1f2",
        "colab": {
          "base_uri": "https://localhost:8080/"
        }
      },
      "execution_count": null,
      "outputs": [
        {
          "output_type": "execute_result",
          "data": {
            "text/plain": [
              "799999                love @health4uandpets u guys r best!!\n",
              "800000    im meeting one besties tonight! cant wait!! - ...\n",
              "800001    @darealsunisakim thanks twitter add, sunisa! g...\n",
              "800002    sick really cheap hurts much eat real food plu...\n",
              "800003                      @lovesbrooklyn2 effect everyone\n",
              "Name: text, dtype: object"
            ]
          },
          "metadata": {},
          "execution_count": 27
        }
      ]
    },
    {
      "cell_type": "markdown",
      "source": [
        "#### Cleaning and removing punctuations"
      ],
      "metadata": {
        "id": "MpBepsi25Dr6"
      }
    },
    {
      "cell_type": "code",
      "source": [
        "english_punctuations = string.punctuation\n",
        "punctuations_list = english_punctuations\n",
        "def cleaning_punctuations(text):\n",
        "    translator = str.maketrans('', '', punctuations_list)\n",
        "    return text.translate(translator)"
      ],
      "metadata": {
        "execution": {
          "iopub.status.busy": "2023-04-03T08:07:15.456165Z",
          "iopub.execute_input": "2023-04-03T08:07:15.456685Z",
          "iopub.status.idle": "2023-04-03T08:07:15.463299Z",
          "shell.execute_reply.started": "2023-04-03T08:07:15.456636Z",
          "shell.execute_reply": "2023-04-03T08:07:15.462154Z"
        },
        "trusted": true,
        "id": "oK7fI2M25Dr6"
      },
      "execution_count": null,
      "outputs": []
    },
    {
      "cell_type": "code",
      "source": [
        "data['text']= data['text'].apply(lambda x: cleaning_punctuations(x))\n",
        "data['text'].tail()"
      ],
      "metadata": {
        "execution": {
          "iopub.status.busy": "2023-04-03T08:07:15.465156Z",
          "iopub.execute_input": "2023-04-03T08:07:15.46592Z",
          "iopub.status.idle": "2023-04-03T08:07:15.663982Z",
          "shell.execute_reply.started": "2023-04-03T08:07:15.465874Z",
          "shell.execute_reply": "2023-04-03T08:07:15.662963Z"
        },
        "trusted": true,
        "id": "XQiEhx1c5Dr6",
        "outputId": "d498bfb6-a5a9-487a-a81e-d991918f4666",
        "colab": {
          "base_uri": "https://localhost:8080/"
        }
      },
      "execution_count": null,
      "outputs": [
        {
          "output_type": "execute_result",
          "data": {
            "text/plain": [
              "39995    mittec problems literally spent 2 hours cleani...\n",
              "39996                                              ow head\n",
              "39997    anyway particularly looking foreward labs toda...\n",
              "39998                     allergies insomnia matter reason\n",
              "39999    scottcabal im working evening could daytime su...\n",
              "Name: text, dtype: object"
            ]
          },
          "metadata": {},
          "execution_count": 29
        }
      ]
    },
    {
      "cell_type": "markdown",
      "source": [
        "#### Cleaning and removing repeating characters"
      ],
      "metadata": {
        "id": "QYFQrj9T5Dr6"
      }
    },
    {
      "cell_type": "code",
      "source": [
        "def cleaning_repeating_char(text):\n",
        "    return re.sub(r'(.)\\1+', r'\\1', text)"
      ],
      "metadata": {
        "execution": {
          "iopub.status.busy": "2023-04-03T08:07:15.665703Z",
          "iopub.execute_input": "2023-04-03T08:07:15.66603Z",
          "iopub.status.idle": "2023-04-03T08:07:15.670391Z",
          "shell.execute_reply.started": "2023-04-03T08:07:15.665998Z",
          "shell.execute_reply": "2023-04-03T08:07:15.669342Z"
        },
        "trusted": true,
        "id": "fXCPZy-P5Dr7"
      },
      "execution_count": null,
      "outputs": []
    },
    {
      "cell_type": "code",
      "source": [
        "data['text'] = data['text'].apply(lambda x: cleaning_repeating_char(x))\n",
        "data['text'].tail()"
      ],
      "metadata": {
        "execution": {
          "iopub.status.busy": "2023-04-03T08:07:15.67189Z",
          "iopub.execute_input": "2023-04-03T08:07:15.672418Z",
          "iopub.status.idle": "2023-04-03T08:07:16.044609Z",
          "shell.execute_reply.started": "2023-04-03T08:07:15.672365Z",
          "shell.execute_reply": "2023-04-03T08:07:16.043726Z"
        },
        "trusted": true,
        "id": "oHJehuX25Dr7",
        "outputId": "9503f830-96f0-4af4-c064-329899ad4bc4",
        "colab": {
          "base_uri": "https://localhost:8080/"
        }
      },
      "execution_count": null,
      "outputs": [
        {
          "output_type": "execute_result",
          "data": {
            "text/plain": [
              "39995    mitec problems literaly spent 2 hours cleaning...\n",
              "39996                                              ow head\n",
              "39997    anyway particularly loking foreward labs today...\n",
              "39998                       alergies insomnia mater reason\n",
              "39999    scotcabal im working evening could daytime sur...\n",
              "Name: text, dtype: object"
            ]
          },
          "metadata": {},
          "execution_count": 31
        }
      ]
    },
    {
      "cell_type": "markdown",
      "source": [
        "#### Cleaning and removing email"
      ],
      "metadata": {
        "id": "TMKPWpSl5Dr7"
      }
    },
    {
      "cell_type": "code",
      "source": [
        "def cleaning_email(data):\n",
        "    return re.sub('@[^\\s]+', ' ', data)"
      ],
      "metadata": {
        "execution": {
          "iopub.status.busy": "2023-04-03T08:07:16.045876Z",
          "iopub.execute_input": "2023-04-03T08:07:16.04642Z",
          "iopub.status.idle": "2023-04-03T08:07:16.051278Z",
          "shell.execute_reply.started": "2023-04-03T08:07:16.046362Z",
          "shell.execute_reply": "2023-04-03T08:07:16.050171Z"
        },
        "trusted": true,
        "id": "w4BwOfpj5Dr7"
      },
      "execution_count": null,
      "outputs": []
    },
    {
      "cell_type": "code",
      "source": [
        "data['text']= data['text'].apply(lambda x: cleaning_email(x))\n",
        "data['text'].tail()"
      ],
      "metadata": {
        "execution": {
          "iopub.status.busy": "2023-04-03T08:07:16.052987Z",
          "iopub.execute_input": "2023-04-03T08:07:16.053347Z",
          "iopub.status.idle": "2023-04-03T08:07:16.128762Z",
          "shell.execute_reply.started": "2023-04-03T08:07:16.05329Z",
          "shell.execute_reply": "2023-04-03T08:07:16.127849Z"
        },
        "trusted": true,
        "id": "JwSS65I55Dr7",
        "outputId": "ef5fbca9-91f1-4bb8-cc4f-9869918cdcca",
        "colab": {
          "base_uri": "https://localhost:8080/"
        }
      },
      "execution_count": null,
      "outputs": [
        {
          "output_type": "execute_result",
          "data": {
            "text/plain": [
              "39995    mitec problems literaly spent 2 hours cleaning...\n",
              "39996                                              ow head\n",
              "39997    anyway particularly loking foreward labs today...\n",
              "39998                       alergies insomnia mater reason\n",
              "39999    scotcabal im working evening could daytime sur...\n",
              "Name: text, dtype: object"
            ]
          },
          "metadata": {},
          "execution_count": 33
        }
      ]
    },
    {
      "cell_type": "markdown",
      "source": [
        "#### Cleaning and removing URL's"
      ],
      "metadata": {
        "id": "FfvuuPub5Dr8"
      }
    },
    {
      "cell_type": "code",
      "source": [
        "def cleaning_URLs(data):\n",
        "    return re.sub('((www\\.[^\\s]+)|(https?://[^\\s]+))',' ',data)"
      ],
      "metadata": {
        "execution": {
          "iopub.status.busy": "2023-04-03T08:07:16.130077Z",
          "iopub.execute_input": "2023-04-03T08:07:16.130626Z",
          "iopub.status.idle": "2023-04-03T08:07:16.135607Z",
          "shell.execute_reply.started": "2023-04-03T08:07:16.13057Z",
          "shell.execute_reply": "2023-04-03T08:07:16.134287Z"
        },
        "trusted": true,
        "id": "lTnR5u5T5Dr8"
      },
      "execution_count": null,
      "outputs": []
    },
    {
      "cell_type": "code",
      "source": [
        "data['text'] = data['text'].apply(lambda x: cleaning_URLs(x))\n",
        "data['text'].tail()"
      ],
      "metadata": {
        "execution": {
          "iopub.status.busy": "2023-04-03T08:07:16.137554Z",
          "iopub.execute_input": "2023-04-03T08:07:16.137889Z",
          "iopub.status.idle": "2023-04-03T08:07:16.317718Z",
          "shell.execute_reply.started": "2023-04-03T08:07:16.137856Z",
          "shell.execute_reply": "2023-04-03T08:07:16.316858Z"
        },
        "trusted": true,
        "id": "l305qkE55Dr8",
        "outputId": "fea88321-8671-48c3-94e5-4b95a3969ad2",
        "colab": {
          "base_uri": "https://localhost:8080/"
        }
      },
      "execution_count": null,
      "outputs": [
        {
          "output_type": "execute_result",
          "data": {
            "text/plain": [
              "39995    mitec problems literaly spent 2 hours cleaning...\n",
              "39996                                              ow head\n",
              "39997    anyway particularly loking foreward labs today...\n",
              "39998                       alergies insomnia mater reason\n",
              "39999    scotcabal im working evening could daytime sur...\n",
              "Name: text, dtype: object"
            ]
          },
          "metadata": {},
          "execution_count": 35
        }
      ]
    },
    {
      "cell_type": "markdown",
      "source": [
        "#### Cleaning and removing Numeric numbers"
      ],
      "metadata": {
        "id": "c3lPwzz95Dr8"
      }
    },
    {
      "cell_type": "code",
      "source": [
        "def cleaning_numbers(data):\n",
        "    return re.sub('[0-9]+', '', data)"
      ],
      "metadata": {
        "execution": {
          "iopub.status.busy": "2023-04-03T08:07:16.31895Z",
          "iopub.execute_input": "2023-04-03T08:07:16.319441Z",
          "iopub.status.idle": "2023-04-03T08:07:16.323331Z",
          "shell.execute_reply.started": "2023-04-03T08:07:16.319386Z",
          "shell.execute_reply": "2023-04-03T08:07:16.322487Z"
        },
        "trusted": true,
        "id": "J75pI8DO5Dr8"
      },
      "execution_count": null,
      "outputs": []
    },
    {
      "cell_type": "code",
      "source": [
        "data['text'] = data['text'].apply(lambda x: cleaning_numbers(x))\n",
        "data['text'].tail()"
      ],
      "metadata": {
        "execution": {
          "iopub.status.busy": "2023-04-03T08:07:16.329364Z",
          "iopub.execute_input": "2023-04-03T08:07:16.32994Z",
          "iopub.status.idle": "2023-04-03T08:07:16.452657Z",
          "shell.execute_reply.started": "2023-04-03T08:07:16.329742Z",
          "shell.execute_reply": "2023-04-03T08:07:16.451414Z"
        },
        "trusted": true,
        "id": "y8uHOrXq5Dr8",
        "outputId": "3b167c8f-1ade-4d63-ea3d-86c2b7cb9dd2",
        "colab": {
          "base_uri": "https://localhost:8080/"
        }
      },
      "execution_count": null,
      "outputs": [
        {
          "output_type": "execute_result",
          "data": {
            "text/plain": [
              "39995    mitec problems literaly spent  hours cleaning ...\n",
              "39996                                              ow head\n",
              "39997    anyway particularly loking foreward labs today...\n",
              "39998                       alergies insomnia mater reason\n",
              "39999    scotcabal im working evening could daytime sur...\n",
              "Name: text, dtype: object"
            ]
          },
          "metadata": {},
          "execution_count": 37
        }
      ]
    },
    {
      "cell_type": "markdown",
      "source": [
        "#### Getting tokenization of tweet text"
      ],
      "metadata": {
        "id": "hYfq2Tjt5Dr9"
      }
    },
    {
      "cell_type": "code",
      "source": [
        "tokenizer = RegexpTokenizer(r'\\w+')\n",
        "data['text'] = data['text'].apply(tokenizer.tokenize)"
      ],
      "metadata": {
        "execution": {
          "iopub.status.busy": "2023-04-03T08:07:16.454097Z",
          "iopub.execute_input": "2023-04-03T08:07:16.454479Z",
          "iopub.status.idle": "2023-04-03T08:07:16.597642Z",
          "shell.execute_reply.started": "2023-04-03T08:07:16.454445Z",
          "shell.execute_reply": "2023-04-03T08:07:16.59664Z"
        },
        "trusted": true,
        "id": "993k2ZcA5Dr9"
      },
      "execution_count": null,
      "outputs": []
    },
    {
      "cell_type": "code",
      "source": [
        "data['text'].head()"
      ],
      "metadata": {
        "execution": {
          "iopub.status.busy": "2023-04-03T08:07:16.600376Z",
          "iopub.execute_input": "2023-04-03T08:07:16.600837Z",
          "iopub.status.idle": "2023-04-03T08:07:16.614218Z",
          "shell.execute_reply.started": "2023-04-03T08:07:16.600789Z",
          "shell.execute_reply": "2023-04-03T08:07:16.612684Z"
        },
        "trusted": true,
        "id": "y5bJJguE5Dr9",
        "outputId": "73edf0a6-f494-4c9d-fe08-b6a571b217e8",
        "colab": {
          "base_uri": "https://localhost:8080/"
        }
      },
      "execution_count": null,
      "outputs": [
        {
          "output_type": "execute_result",
          "data": {
            "text/plain": [
              "799999             [love, healthuandpets, u, guys, r, best]\n",
              "800000    [im, meting, one, besties, tonight, cant, wait...\n",
              "800001    [darealsunisakim, thanks, twiter, ad, sunisa, ...\n",
              "800002    [sick, realy, cheap, hurts, much, eat, real, f...\n",
              "800003                      [lovesbroklyn, efect, everyone]\n",
              "Name: text, dtype: object"
            ]
          },
          "metadata": {},
          "execution_count": 39
        }
      ]
    },
    {
      "cell_type": "markdown",
      "source": [
        "#### Applying Stemming"
      ],
      "metadata": {
        "id": "9a6Ewqno5Dr9"
      }
    },
    {
      "cell_type": "code",
      "source": [
        "st = nltk.PorterStemmer()\n",
        "def stemming_on_text(data):\n",
        "    text = [st.stem(word) for word in data]\n",
        "    return data\n",
        "\n",
        "data['text']= data['text'].apply(lambda x: stemming_on_text(x))"
      ],
      "metadata": {
        "execution": {
          "iopub.status.busy": "2023-04-03T08:07:16.615591Z",
          "iopub.execute_input": "2023-04-03T08:07:16.615994Z",
          "iopub.status.idle": "2023-04-03T08:07:24.781361Z",
          "shell.execute_reply.started": "2023-04-03T08:07:16.615961Z",
          "shell.execute_reply": "2023-04-03T08:07:24.780017Z"
        },
        "trusted": true,
        "id": "xluCzSIu5Dr9"
      },
      "execution_count": null,
      "outputs": []
    },
    {
      "cell_type": "code",
      "source": [
        "data['text'].head()"
      ],
      "metadata": {
        "execution": {
          "iopub.status.busy": "2023-04-03T08:07:24.783012Z",
          "iopub.execute_input": "2023-04-03T08:07:24.783363Z",
          "iopub.status.idle": "2023-04-03T08:07:24.792087Z",
          "shell.execute_reply.started": "2023-04-03T08:07:24.783331Z",
          "shell.execute_reply": "2023-04-03T08:07:24.790904Z"
        },
        "trusted": true,
        "id": "sUn7LcEK5Dr-",
        "outputId": "6f482f04-da67-42b1-c09a-5a7ebb71325e",
        "colab": {
          "base_uri": "https://localhost:8080/"
        }
      },
      "execution_count": null,
      "outputs": [
        {
          "output_type": "execute_result",
          "data": {
            "text/plain": [
              "799999             [love, healthuandpets, u, guys, r, best]\n",
              "800000    [im, meting, one, besties, tonight, cant, wait...\n",
              "800001    [darealsunisakim, thanks, twiter, ad, sunisa, ...\n",
              "800002    [sick, realy, cheap, hurts, much, eat, real, f...\n",
              "800003                      [lovesbroklyn, efect, everyone]\n",
              "Name: text, dtype: object"
            ]
          },
          "metadata": {},
          "execution_count": 41
        }
      ]
    },
    {
      "cell_type": "markdown",
      "source": [
        "#### Applying Lemmatizer"
      ],
      "metadata": {
        "id": "VSbvf1x85Dr-"
      }
    },
    {
      "cell_type": "code",
      "source": [
        "import nltk\n",
        "nltk.download('wordnet')\n",
        "\n",
        "lm = nltk.WordNetLemmatizer()\n",
        "def lemmatizer_on_text(data):\n",
        "    text = [lm.lemmatize(word) for word in data]\n",
        "    return data\n",
        "\n",
        "data['text'] = data['text'].apply(lambda x: lemmatizer_on_text(x))"
      ],
      "metadata": {
        "execution": {
          "iopub.status.busy": "2023-04-03T08:07:24.793309Z",
          "iopub.execute_input": "2023-04-03T08:07:24.793598Z",
          "iopub.status.idle": "2023-04-03T08:07:27.893919Z",
          "shell.execute_reply.started": "2023-04-03T08:07:24.79357Z",
          "shell.execute_reply": "2023-04-03T08:07:27.892678Z"
        },
        "trusted": true,
        "id": "glRgCRAq5Dr-",
        "outputId": "70128baa-057c-43b1-de8c-2da9ef1eec70",
        "colab": {
          "base_uri": "https://localhost:8080/"
        }
      },
      "execution_count": null,
      "outputs": [
        {
          "output_type": "stream",
          "name": "stderr",
          "text": [
            "[nltk_data] Downloading package wordnet to /root/nltk_data...\n",
            "[nltk_data]   Package wordnet is already up-to-date!\n"
          ]
        }
      ]
    },
    {
      "cell_type": "code",
      "source": [
        "data['text'].head()"
      ],
      "metadata": {
        "execution": {
          "iopub.status.busy": "2023-04-03T08:07:27.895414Z",
          "iopub.execute_input": "2023-04-03T08:07:27.895832Z",
          "iopub.status.idle": "2023-04-03T08:07:27.90412Z",
          "shell.execute_reply.started": "2023-04-03T08:07:27.895799Z",
          "shell.execute_reply": "2023-04-03T08:07:27.903292Z"
        },
        "trusted": true,
        "id": "7LSWhQ805Dr-",
        "outputId": "e8e32a03-0768-4901-8cc3-2e7aaeacef69",
        "colab": {
          "base_uri": "https://localhost:8080/"
        }
      },
      "execution_count": null,
      "outputs": [
        {
          "output_type": "execute_result",
          "data": {
            "text/plain": [
              "799999             [love, healthuandpets, u, guys, r, best]\n",
              "800000    [im, meting, one, besties, tonight, cant, wait...\n",
              "800001    [darealsunisakim, thanks, twiter, ad, sunisa, ...\n",
              "800002    [sick, realy, cheap, hurts, much, eat, real, f...\n",
              "800003                      [lovesbroklyn, efect, everyone]\n",
              "Name: text, dtype: object"
            ]
          },
          "metadata": {},
          "execution_count": 43
        }
      ]
    },
    {
      "cell_type": "markdown",
      "source": [
        "<b> <h3> Labels : </h3></b>  labels are the targets like in this project senitments of the tweets are labels."
      ],
      "metadata": {
        "id": "3bkcr61p5Dr-"
      }
    },
    {
      "cell_type": "markdown",
      "source": [
        "<b> <h3> Inputs : </h3></b>  Inputs are the data that we feed into machine learning like in this project tweets texts are the inputs."
      ],
      "metadata": {
        "id": "D7yCetJ85Dr-"
      }
    },
    {
      "cell_type": "markdown",
      "source": [
        "<b> <h3> Training Data </h3></b>  We use training data when we train the models. We feed train data to machine learning and deep learning models so that model can learn from the data."
      ],
      "metadata": {
        "id": "BsJ7jgKK5Dr_"
      }
    },
    {
      "cell_type": "markdown",
      "source": [
        "<b> <h3> Validation Data </h3></b>  We use validation data while training the model. We use this data to evalaute the performance that how the model perform on training time."
      ],
      "metadata": {
        "id": "9n-n2Nrp5Dr_"
      }
    },
    {
      "cell_type": "markdown",
      "source": [
        "<b> <h3> Testing Data </h3></b>  We use testing data after training the model. We use this data to evalaute the performance that how the model perform after training. So in this way first we get predictions from the trained model without giving the labels and then we compare the true labels with predictions and get the performance of th model.."
      ],
      "metadata": {
        "id": "1uTKjil35Dr_"
      }
    },
    {
      "cell_type": "markdown",
      "source": [
        "####  Separating input feature and label"
      ],
      "metadata": {
        "id": "Hq_4KM0m5Dr_"
      }
    },
    {
      "cell_type": "code",
      "source": [
        "X=data.text\n",
        "y=data.label"
      ],
      "metadata": {
        "execution": {
          "iopub.status.busy": "2023-04-03T08:07:27.905517Z",
          "iopub.execute_input": "2023-04-03T08:07:27.90614Z",
          "iopub.status.idle": "2023-04-03T08:07:27.913936Z",
          "shell.execute_reply.started": "2023-04-03T08:07:27.906108Z",
          "shell.execute_reply": "2023-04-03T08:07:27.912979Z"
        },
        "trusted": true,
        "id": "odLyBn1F5Dr_"
      },
      "execution_count": null,
      "outputs": []
    },
    {
      "cell_type": "markdown",
      "source": [
        "#### Preparing the input features for training\n",
        "- We converting the text words into arrays form.\n",
        "- Maximum 500 features/words selected for training. These 500 words will be selected on the importance that will distinguish between the positive tweets and negative tweets."
      ],
      "metadata": {
        "id": "RTo649l35DsA"
      }
    },
    {
      "cell_type": "code",
      "source": [
        "max_len = 500\n",
        "tok = Tokenizer(num_words=200)\n",
        "tok.fit_on_texts(X)\n",
        "sequences = tok.texts_to_sequences(X)\n",
        "sequences_matrix = sequence.pad_sequences(sequences,maxlen=max_len)"
      ],
      "metadata": {
        "id": "plIFObh4jYJV",
        "execution": {
          "iopub.status.busy": "2023-04-03T08:07:27.915064Z",
          "iopub.execute_input": "2023-04-03T08:07:27.915589Z",
          "iopub.status.idle": "2023-04-03T08:07:28.795463Z",
          "shell.execute_reply.started": "2023-04-03T08:07:27.915552Z",
          "shell.execute_reply": "2023-04-03T08:07:28.794447Z"
        },
        "trusted": true
      },
      "execution_count": null,
      "outputs": []
    },
    {
      "cell_type": "markdown",
      "source": [
        "As we can see that there total 40000 tweets and the number words/features are 500."
      ],
      "metadata": {
        "id": "b3PyOF0L5DsA"
      }
    },
    {
      "cell_type": "code",
      "source": [
        "sequences_matrix.shape"
      ],
      "metadata": {
        "execution": {
          "iopub.status.busy": "2023-04-03T08:07:28.796659Z",
          "iopub.execute_input": "2023-04-03T08:07:28.797125Z",
          "iopub.status.idle": "2023-04-03T08:07:28.802844Z",
          "shell.execute_reply.started": "2023-04-03T08:07:28.797093Z",
          "shell.execute_reply": "2023-04-03T08:07:28.801436Z"
        },
        "trusted": true,
        "id": "QaJUmZF05DsA",
        "outputId": "e2d20b20-edad-4285-8f82-b3176a5ae4bb",
        "colab": {
          "base_uri": "https://localhost:8080/"
        }
      },
      "execution_count": null,
      "outputs": [
        {
          "output_type": "execute_result",
          "data": {
            "text/plain": [
              "(80000, 500)"
            ]
          },
          "metadata": {},
          "execution_count": 46
        }
      ]
    },
    {
      "cell_type": "markdown",
      "source": [
        "#### Separating the 70% data for training data and 30% for testing data"
      ],
      "metadata": {
        "id": "sMYY6_NQ5DsA"
      }
    },
    {
      "cell_type": "markdown",
      "source": [
        "As we prepared all the tweets, now we are separating/splitting the tweets into training data and testing data.\n",
        "- 70% tweets will be used in the training\n",
        "- 30% tweets will be used to test the performance of the model."
      ],
      "metadata": {
        "id": "BjQR8ok_5DsB"
      }
    },
    {
      "cell_type": "code",
      "source": [
        "X_train, X_test, Y_train, Y_test = train_test_split(sequences_matrix, y, test_size=0.3, random_state=2)"
      ],
      "metadata": {
        "id": "oOlkTTg4oRqR",
        "execution": {
          "iopub.status.busy": "2023-04-03T08:07:28.804538Z",
          "iopub.execute_input": "2023-04-03T08:07:28.804947Z",
          "iopub.status.idle": "2023-04-03T08:07:28.851833Z",
          "shell.execute_reply.started": "2023-04-03T08:07:28.8049Z",
          "shell.execute_reply": "2023-04-03T08:07:28.850793Z"
        },
        "trusted": true
      },
      "execution_count": null,
      "outputs": []
    },
    {
      "cell_type": "markdown",
      "source": [
        "<div class=\"alert alert-block alert-danger\">  \n",
        "<h2><center><strong>Implementing Tensorflow based model for training 🧪</strong></center></h2>   \n",
        "</div>"
      ],
      "metadata": {
        "papermill": {
          "duration": 0.065466,
          "end_time": "2020-11-30T07:38:51.578836",
          "exception": false,
          "start_time": "2020-11-30T07:38:51.51337",
          "status": "completed"
        },
        "tags": [],
        "id": "1-H-yHNz5DsB"
      }
    },
    {
      "cell_type": "markdown",
      "source": [
        "<h4> Step 1</h4>\n",
        "- The input to model is 500 words because these are the number features/words that we extracted above from text of tweets.\n",
        "\n",
        "<h4> Step 2</h4>\n",
        "- Embeddings provide the presentation of words and their relative meanings. Like in this, we are feeding the limit of maximum words, lenght of input words and the inputs of previous layer.\n",
        "\n",
        "<h4> Step 3</h4>\n",
        "- LSTM (long short term memory) save the words and predict the next words based on the previous words. LSTM is a sequance predictor of next coming words.\n",
        "\n",
        "<img src=\"https://static.wixstatic.com/media/3eee0b_969c1d3e8d7943f0bd693d6151199f69~mv2.gif\">\n",
        "<h4> Ref: https://static.wixstatic.com/media/3eee0b_969c1d3e8d7943f0bd693d6151199f69~mv2.gif </h4>\n",
        "\n",
        "<h4> Step 4</h4>\n",
        "- Dense layer reduce the outputs by getting inputs from Faltten layer. Dense layer use all the inputs of previous layer neurons and perform calculations and send 256 outputs\n",
        "\n",
        "<h4> Step 5</h4>\n",
        "- Activation function is node that is put at the end of all layers of neural network model or in between neural network layers. Activation function help to decide which neuron should be pass and which neuron should fire. So activation function of node defines the output of that node given an input or set of inputs.\n",
        "\n",
        "<img src=\"https://miro.medium.com/v2/resize:fit:1400/1*mcJfRvd9zarAbkHppFRrCQ.gif\">\n",
        "<h4> Ref: https://miro.medium.com/v2/resize:fit:1400/1*mcJfRvd9zarAbkHppFRrCQ.gif </h4>\n",
        "\n",
        "<h4> Step 6</h4>\n",
        "- Droupout layer drop some neurons from previous layers. why we apply this? We apply this to avoid the overfitting problems. In overfitting, model give good accuracy on training time but not good on testing time.\n",
        "<img src=\"https://i.imgur.com/a86utxY.gif\">\n",
        "<h4> Ref: https://i.imgur.com/a86utxY.gif </h4>"
      ],
      "metadata": {
        "id": "6J-0PihF5DsB"
      }
    },
    {
      "cell_type": "code",
      "source": [
        "def tensorflow_based_model(): #Defined tensorflow_based_model function for training tenforflow based model\n",
        "    inputs = Input(name='inputs',shape=[max_len])#step1\n",
        "    layer = Embedding(2000,50,input_length=max_len)(inputs) #step2\n",
        "    layer = LSTM(64)(layer) #step3\n",
        "    layer = Dense(256,name='FC1')(layer) #step4\n",
        "    layer = Activation('relu')(layer) # step5\n",
        "    layer = Dropout(0.5)(layer) # step6\n",
        "    layer = Dense(1,name='out_layer')(layer) #step4 again but this time its giving only one output as because we need to classify the tweet as positive or negative\n",
        "    layer = Activation('sigmoid')(layer) #step5 but this time activation function is sigmoid for only one output.\n",
        "    model = Model(inputs=inputs,outputs=layer) #here we are getting the final output value in the model for classification\n",
        "    return model #function returning the value when we call it"
      ],
      "metadata": {
        "execution": {
          "iopub.status.busy": "2023-04-03T08:07:28.853275Z",
          "iopub.execute_input": "2023-04-03T08:07:28.853569Z",
          "iopub.status.idle": "2023-04-03T08:07:28.860928Z",
          "shell.execute_reply.started": "2023-04-03T08:07:28.853539Z",
          "shell.execute_reply": "2023-04-03T08:07:28.859834Z"
        },
        "trusted": true,
        "id": "zndahl1T5DsB"
      },
      "execution_count": null,
      "outputs": []
    },
    {
      "cell_type": "markdown",
      "source": [
        "# Model compilation"
      ],
      "metadata": {
        "id": "wVhNGVOX5DsC"
      }
    },
    {
      "cell_type": "markdown",
      "source": [
        "- First we are calling the model\n",
        "- We are using 2 classes so we set \"binary_crossentropy\" and if we use more than two classes then we use \"categorical_crossentropy\"\n",
        "- Optimizer is a function that used to change the features of neural network such as learning rate (how the model learn with features) in order to reduce the losses. So the learning rate of neural network to reduce the losses is defined by optimizer.\n",
        "- We are setting metrics=accuracy because we are going to caluclate the percentage of correct predictions over all predictions on the validation set"
      ],
      "metadata": {
        "id": "mO9ncBfF5DsC"
      }
    },
    {
      "cell_type": "code",
      "source": [
        "model = tensorflow_based_model() # here we are calling the function of created model\n",
        "model.compile(loss='binary_crossentropy',optimizer=RMSprop(),metrics=['accuracy'])"
      ],
      "metadata": {
        "execution": {
          "iopub.status.busy": "2023-04-03T08:07:28.862457Z",
          "iopub.execute_input": "2023-04-03T08:07:28.862755Z",
          "iopub.status.idle": "2023-04-03T08:07:29.197013Z",
          "shell.execute_reply.started": "2023-04-03T08:07:28.862726Z",
          "shell.execute_reply": "2023-04-03T08:07:29.196099Z"
        },
        "trusted": true,
        "id": "qppgP_ym5DsC"
      },
      "execution_count": null,
      "outputs": []
    },
    {
      "cell_type": "markdown",
      "source": [
        "#### Training and validating with parameter tuning\n",
        "- We are feeding the training data and getting 10% data for validation from training data\n",
        "* We set the following parameters:\n",
        "- Batch size =80 so the model take 80 tweets in each iteration and train them. Batch size is a term used in machine learning and refers to the number of training examples utilized in one iteration.\n",
        "- Epochs =6 so the model will train on the data 6 times.Epoch is a term used in machine learning and indicates the number of passes of the entire training dataset the machine learning algorithm has completed.\n",
        "- We can choose batch_size, and epochs as we want so the good practice is to set some values and train the model if the model will not give the good results we can change it and then try again for the training of the model. We can repeat this process many time untill we will not get the good results and this process called as parameter tuning.\n"
      ],
      "metadata": {
        "id": "HMVpShvL5DsC"
      }
    },
    {
      "cell_type": "code",
      "source": [
        "history=model.fit(X_train,Y_train,batch_size=120,epochs=120, validation_split=0.1)# here we are starting the training of model by feeding the training data\n",
        "print('Training finished !!')"
      ],
      "metadata": {
        "execution": {
          "iopub.status.busy": "2023-04-03T08:07:29.198154Z",
          "iopub.execute_input": "2023-04-03T08:07:29.198483Z",
          "iopub.status.idle": "2023-04-03T08:21:48.133043Z",
          "shell.execute_reply.started": "2023-04-03T08:07:29.198452Z",
          "shell.execute_reply": "2023-04-03T08:21:48.131766Z"
        },
        "trusted": true,
        "id": "kVWx3rmK5DsC",
        "outputId": "f3a2bf31-85c3-48e7-cf3d-281149b272f3",
        "colab": {
          "base_uri": "https://localhost:8080/"
        }
      },
      "execution_count": null,
      "outputs": [
        {
          "output_type": "stream",
          "name": "stdout",
          "text": [
            "Epoch 1/120\n",
            "420/420 [==============================] - 18s 32ms/step - loss: 0.6197 - accuracy: 0.6406 - val_loss: 0.5793 - val_accuracy: 0.6791\n",
            "Epoch 2/120\n",
            "420/420 [==============================] - 9s 20ms/step - loss: 0.5850 - accuracy: 0.6811 - val_loss: 0.5752 - val_accuracy: 0.6891\n",
            "Epoch 3/120\n",
            "420/420 [==============================] - 9s 21ms/step - loss: 0.5838 - accuracy: 0.6818 - val_loss: 0.5730 - val_accuracy: 0.6945\n",
            "Epoch 4/120\n",
            "420/420 [==============================] - 9s 21ms/step - loss: 0.5818 - accuracy: 0.6817 - val_loss: 0.5727 - val_accuracy: 0.6929\n",
            "Epoch 5/120\n",
            "420/420 [==============================] - 8s 20ms/step - loss: 0.5790 - accuracy: 0.6833 - val_loss: 0.5694 - val_accuracy: 0.6954\n",
            "Epoch 6/120\n",
            "420/420 [==============================] - 11s 25ms/step - loss: 0.5789 - accuracy: 0.6840 - val_loss: 0.5708 - val_accuracy: 0.6977\n",
            "Epoch 7/120\n",
            "420/420 [==============================] - 9s 21ms/step - loss: 0.5764 - accuracy: 0.6860 - val_loss: 0.5714 - val_accuracy: 0.6945\n",
            "Epoch 8/120\n",
            "420/420 [==============================] - 8s 19ms/step - loss: 0.5763 - accuracy: 0.6852 - val_loss: 0.5740 - val_accuracy: 0.6786\n",
            "Epoch 9/120\n",
            "420/420 [==============================] - 9s 21ms/step - loss: 0.5792 - accuracy: 0.6839 - val_loss: 0.5723 - val_accuracy: 0.6913\n",
            "Epoch 10/120\n",
            "420/420 [==============================] - 9s 21ms/step - loss: 0.5728 - accuracy: 0.6866 - val_loss: 0.5717 - val_accuracy: 0.6929\n",
            "Epoch 11/120\n",
            "420/420 [==============================] - 8s 20ms/step - loss: 0.5719 - accuracy: 0.6877 - val_loss: 0.5713 - val_accuracy: 0.6929\n",
            "Epoch 12/120\n",
            "420/420 [==============================] - 9s 22ms/step - loss: 0.5732 - accuracy: 0.6870 - val_loss: 0.5713 - val_accuracy: 0.6929\n",
            "Epoch 13/120\n",
            "420/420 [==============================] - 9s 21ms/step - loss: 0.5709 - accuracy: 0.6891 - val_loss: 0.5729 - val_accuracy: 0.6948\n",
            "Epoch 14/120\n",
            "420/420 [==============================] - 9s 21ms/step - loss: 0.5702 - accuracy: 0.6914 - val_loss: 0.5733 - val_accuracy: 0.6948\n",
            "Epoch 15/120\n",
            "420/420 [==============================] - 9s 22ms/step - loss: 0.5698 - accuracy: 0.6899 - val_loss: 0.5728 - val_accuracy: 0.6925\n",
            "Epoch 16/120\n",
            "420/420 [==============================] - 9s 20ms/step - loss: 0.5689 - accuracy: 0.6903 - val_loss: 0.5730 - val_accuracy: 0.6909\n",
            "Epoch 17/120\n",
            "420/420 [==============================] - 8s 19ms/step - loss: 0.5684 - accuracy: 0.6906 - val_loss: 0.5728 - val_accuracy: 0.6913\n",
            "Epoch 18/120\n",
            "420/420 [==============================] - 9s 21ms/step - loss: 0.5684 - accuracy: 0.6914 - val_loss: 0.5754 - val_accuracy: 0.6913\n",
            "Epoch 19/120\n",
            "420/420 [==============================] - 8s 20ms/step - loss: 0.5672 - accuracy: 0.6911 - val_loss: 0.5747 - val_accuracy: 0.6898\n",
            "Epoch 20/120\n",
            "420/420 [==============================] - 8s 20ms/step - loss: 0.5666 - accuracy: 0.6916 - val_loss: 0.5762 - val_accuracy: 0.6934\n",
            "Epoch 21/120\n",
            "420/420 [==============================] - 9s 21ms/step - loss: 0.5657 - accuracy: 0.6924 - val_loss: 0.5769 - val_accuracy: 0.6952\n",
            "Epoch 22/120\n",
            "420/420 [==============================] - 8s 20ms/step - loss: 0.5761 - accuracy: 0.6844 - val_loss: 0.5806 - val_accuracy: 0.6837\n",
            "Epoch 23/120\n",
            "420/420 [==============================] - 9s 21ms/step - loss: 0.5686 - accuracy: 0.6907 - val_loss: 0.5752 - val_accuracy: 0.6896\n",
            "Epoch 24/120\n",
            "420/420 [==============================] - 9s 21ms/step - loss: 0.5648 - accuracy: 0.6943 - val_loss: 0.5746 - val_accuracy: 0.6938\n",
            "Epoch 25/120\n",
            "420/420 [==============================] - 8s 20ms/step - loss: 0.5626 - accuracy: 0.6942 - val_loss: 0.5769 - val_accuracy: 0.6938\n",
            "Epoch 26/120\n",
            "420/420 [==============================] - 9s 21ms/step - loss: 0.5615 - accuracy: 0.6956 - val_loss: 0.5745 - val_accuracy: 0.6918\n",
            "Epoch 27/120\n",
            "420/420 [==============================] - 9s 21ms/step - loss: 0.5631 - accuracy: 0.6933 - val_loss: 0.5750 - val_accuracy: 0.6905\n",
            "Epoch 28/120\n",
            "420/420 [==============================] - 9s 20ms/step - loss: 0.5704 - accuracy: 0.6892 - val_loss: 0.5825 - val_accuracy: 0.6864\n",
            "Epoch 29/120\n",
            "420/420 [==============================] - 8s 20ms/step - loss: 0.5627 - accuracy: 0.6956 - val_loss: 0.5773 - val_accuracy: 0.6929\n",
            "Epoch 30/120\n",
            "420/420 [==============================] - 9s 21ms/step - loss: 0.5592 - accuracy: 0.6972 - val_loss: 0.5765 - val_accuracy: 0.6886\n",
            "Epoch 31/120\n",
            "420/420 [==============================] - 9s 20ms/step - loss: 0.5586 - accuracy: 0.6977 - val_loss: 0.5805 - val_accuracy: 0.6907\n",
            "Epoch 32/120\n",
            "420/420 [==============================] - 9s 20ms/step - loss: 0.5577 - accuracy: 0.6973 - val_loss: 0.5771 - val_accuracy: 0.6902\n",
            "Epoch 33/120\n",
            "420/420 [==============================] - 9s 21ms/step - loss: 0.5560 - accuracy: 0.6994 - val_loss: 0.5775 - val_accuracy: 0.6889\n",
            "Epoch 34/120\n",
            "420/420 [==============================] - 8s 20ms/step - loss: 0.5551 - accuracy: 0.6993 - val_loss: 0.5811 - val_accuracy: 0.6889\n",
            "Epoch 35/120\n",
            "420/420 [==============================] - 9s 21ms/step - loss: 0.5569 - accuracy: 0.6991 - val_loss: 0.5799 - val_accuracy: 0.6882\n",
            "Epoch 36/120\n",
            "420/420 [==============================] - 9s 22ms/step - loss: 0.5535 - accuracy: 0.6998 - val_loss: 0.5788 - val_accuracy: 0.6893\n",
            "Epoch 37/120\n",
            "420/420 [==============================] - 9s 21ms/step - loss: 0.5529 - accuracy: 0.7007 - val_loss: 0.5828 - val_accuracy: 0.6884\n",
            "Epoch 38/120\n",
            "420/420 [==============================] - 9s 21ms/step - loss: 0.5510 - accuracy: 0.7028 - val_loss: 0.5833 - val_accuracy: 0.6848\n",
            "Epoch 39/120\n",
            "420/420 [==============================] - 9s 21ms/step - loss: 0.5501 - accuracy: 0.7020 - val_loss: 0.5864 - val_accuracy: 0.6832\n",
            "Epoch 40/120\n",
            "420/420 [==============================] - 9s 20ms/step - loss: 0.5490 - accuracy: 0.7028 - val_loss: 0.5837 - val_accuracy: 0.6866\n",
            "Epoch 41/120\n",
            "420/420 [==============================] - 9s 20ms/step - loss: 0.5478 - accuracy: 0.7042 - val_loss: 0.5873 - val_accuracy: 0.6875\n",
            "Epoch 42/120\n",
            "420/420 [==============================] - 9s 22ms/step - loss: 0.5467 - accuracy: 0.7031 - val_loss: 0.5872 - val_accuracy: 0.6809\n",
            "Epoch 43/120\n",
            "420/420 [==============================] - 8s 20ms/step - loss: 0.5458 - accuracy: 0.7052 - val_loss: 0.5896 - val_accuracy: 0.6820\n",
            "Epoch 44/120\n",
            "420/420 [==============================] - 9s 21ms/step - loss: 0.5442 - accuracy: 0.7058 - val_loss: 0.5878 - val_accuracy: 0.6850\n",
            "Epoch 45/120\n",
            "420/420 [==============================] - 9s 21ms/step - loss: 0.5422 - accuracy: 0.7076 - val_loss: 0.5885 - val_accuracy: 0.6812\n",
            "Epoch 46/120\n",
            "420/420 [==============================] - 8s 20ms/step - loss: 0.5415 - accuracy: 0.7081 - val_loss: 0.5885 - val_accuracy: 0.6841\n",
            "Epoch 47/120\n",
            "420/420 [==============================] - 9s 20ms/step - loss: 0.5389 - accuracy: 0.7084 - val_loss: 0.5934 - val_accuracy: 0.6845\n",
            "Epoch 48/120\n",
            "420/420 [==============================] - 10s 23ms/step - loss: 0.5386 - accuracy: 0.7084 - val_loss: 0.6059 - val_accuracy: 0.6862\n",
            "Epoch 49/120\n",
            "420/420 [==============================] - 9s 20ms/step - loss: 0.5356 - accuracy: 0.7096 - val_loss: 0.6036 - val_accuracy: 0.6800\n",
            "Epoch 50/120\n",
            "420/420 [==============================] - 9s 21ms/step - loss: 0.5349 - accuracy: 0.7105 - val_loss: 0.6015 - val_accuracy: 0.6807\n",
            "Epoch 51/120\n",
            "420/420 [==============================] - 9s 21ms/step - loss: 0.5324 - accuracy: 0.7134 - val_loss: 0.6029 - val_accuracy: 0.6821\n",
            "Epoch 52/120\n",
            "420/420 [==============================] - 8s 20ms/step - loss: 0.5298 - accuracy: 0.7133 - val_loss: 0.6047 - val_accuracy: 0.6821\n",
            "Epoch 53/120\n",
            "420/420 [==============================] - 9s 20ms/step - loss: 0.5285 - accuracy: 0.7136 - val_loss: 0.6129 - val_accuracy: 0.6773\n",
            "Epoch 54/120\n",
            "420/420 [==============================] - 9s 22ms/step - loss: 0.5266 - accuracy: 0.7156 - val_loss: 0.6219 - val_accuracy: 0.6805\n",
            "Epoch 55/120\n",
            "420/420 [==============================] - 8s 20ms/step - loss: 0.5246 - accuracy: 0.7168 - val_loss: 0.6275 - val_accuracy: 0.6791\n",
            "Epoch 56/120\n",
            "420/420 [==============================] - 9s 21ms/step - loss: 0.5227 - accuracy: 0.7182 - val_loss: 0.6208 - val_accuracy: 0.6773\n",
            "Epoch 57/120\n",
            "420/420 [==============================] - 9s 21ms/step - loss: 0.5378 - accuracy: 0.7106 - val_loss: 0.6167 - val_accuracy: 0.6745\n",
            "Epoch 58/120\n",
            "420/420 [==============================] - 9s 20ms/step - loss: 0.5178 - accuracy: 0.7200 - val_loss: 0.6250 - val_accuracy: 0.6779\n",
            "Epoch 59/120\n",
            "420/420 [==============================] - 9s 21ms/step - loss: 0.5149 - accuracy: 0.7223 - val_loss: 0.6312 - val_accuracy: 0.6761\n",
            "Epoch 60/120\n",
            "420/420 [==============================] - 9s 22ms/step - loss: 0.5123 - accuracy: 0.7238 - val_loss: 0.6335 - val_accuracy: 0.6725\n",
            "Epoch 61/120\n",
            "420/420 [==============================] - 9s 21ms/step - loss: 0.5177 - accuracy: 0.7217 - val_loss: 0.6504 - val_accuracy: 0.6741\n",
            "Epoch 62/120\n",
            "420/420 [==============================] - 9s 21ms/step - loss: 0.5061 - accuracy: 0.7261 - val_loss: 0.6583 - val_accuracy: 0.6736\n",
            "Epoch 63/120\n",
            "420/420 [==============================] - 9s 21ms/step - loss: 0.5035 - accuracy: 0.7282 - val_loss: 0.6599 - val_accuracy: 0.6730\n",
            "Epoch 64/120\n",
            "420/420 [==============================] - 9s 20ms/step - loss: 0.5420 - accuracy: 0.7163 - val_loss: 0.6185 - val_accuracy: 0.6782\n",
            "Epoch 65/120\n",
            "420/420 [==============================] - 9s 21ms/step - loss: 0.4999 - accuracy: 0.7298 - val_loss: 0.6691 - val_accuracy: 0.6754\n",
            "Epoch 66/120\n",
            "420/420 [==============================] - 9s 21ms/step - loss: 0.4941 - accuracy: 0.7325 - val_loss: 0.6862 - val_accuracy: 0.6736\n",
            "Epoch 67/120\n",
            "420/420 [==============================] - 9s 20ms/step - loss: 0.4897 - accuracy: 0.7354 - val_loss: 0.6998 - val_accuracy: 0.6695\n",
            "Epoch 68/120\n",
            "420/420 [==============================] - 9s 20ms/step - loss: 0.4877 - accuracy: 0.7377 - val_loss: 0.6913 - val_accuracy: 0.6768\n",
            "Epoch 69/120\n",
            "420/420 [==============================] - 9s 22ms/step - loss: 0.4840 - accuracy: 0.7396 - val_loss: 0.7256 - val_accuracy: 0.6696\n",
            "Epoch 70/120\n",
            "420/420 [==============================] - 9s 21ms/step - loss: 0.4788 - accuracy: 0.7409 - val_loss: 0.7289 - val_accuracy: 0.6739\n",
            "Epoch 71/120\n",
            "420/420 [==============================] - 8s 20ms/step - loss: 0.4758 - accuracy: 0.7432 - val_loss: 0.7441 - val_accuracy: 0.6711\n",
            "Epoch 72/120\n",
            "420/420 [==============================] - 9s 22ms/step - loss: 0.4720 - accuracy: 0.7452 - val_loss: 0.7482 - val_accuracy: 0.6689\n",
            "Epoch 73/120\n",
            "420/420 [==============================] - 9s 20ms/step - loss: 0.4692 - accuracy: 0.7474 - val_loss: 0.7672 - val_accuracy: 0.6698\n",
            "Epoch 74/120\n",
            "420/420 [==============================] - 8s 20ms/step - loss: 0.4643 - accuracy: 0.7497 - val_loss: 0.7616 - val_accuracy: 0.6630\n",
            "Epoch 75/120\n",
            "420/420 [==============================] - 9s 22ms/step - loss: 0.4602 - accuracy: 0.7497 - val_loss: 0.7951 - val_accuracy: 0.6662\n",
            "Epoch 76/120\n",
            "420/420 [==============================] - 9s 21ms/step - loss: 0.4574 - accuracy: 0.7528 - val_loss: 0.8274 - val_accuracy: 0.6702\n",
            "Epoch 77/120\n",
            "420/420 [==============================] - 8s 20ms/step - loss: 0.4542 - accuracy: 0.7544 - val_loss: 0.8693 - val_accuracy: 0.6637\n",
            "Epoch 78/120\n",
            "420/420 [==============================] - 9s 21ms/step - loss: 0.4493 - accuracy: 0.7567 - val_loss: 0.8948 - val_accuracy: 0.6707\n",
            "Epoch 79/120\n",
            "420/420 [==============================] - 9s 21ms/step - loss: 0.4456 - accuracy: 0.7588 - val_loss: 0.8529 - val_accuracy: 0.6668\n",
            "Epoch 80/120\n",
            "420/420 [==============================] - 8s 20ms/step - loss: 0.4504 - accuracy: 0.7554 - val_loss: 0.8674 - val_accuracy: 0.6607\n",
            "Epoch 81/120\n",
            "420/420 [==============================] - 9s 21ms/step - loss: 0.4396 - accuracy: 0.7603 - val_loss: 0.9408 - val_accuracy: 0.6695\n",
            "Epoch 82/120\n",
            "420/420 [==============================] - 9s 21ms/step - loss: 0.4379 - accuracy: 0.7630 - val_loss: 0.8937 - val_accuracy: 0.6650\n",
            "Epoch 83/120\n",
            "420/420 [==============================] - 8s 20ms/step - loss: 0.4346 - accuracy: 0.7656 - val_loss: 0.9382 - val_accuracy: 0.6646\n",
            "Epoch 84/120\n",
            "420/420 [==============================] - 9s 22ms/step - loss: 0.4298 - accuracy: 0.7666 - val_loss: 0.9432 - val_accuracy: 0.6655\n",
            "Epoch 85/120\n",
            "420/420 [==============================] - 9s 20ms/step - loss: 0.4268 - accuracy: 0.7684 - val_loss: 0.9708 - val_accuracy: 0.6648\n",
            "Epoch 86/120\n",
            "420/420 [==============================] - 9s 20ms/step - loss: 0.4244 - accuracy: 0.7696 - val_loss: 0.9852 - val_accuracy: 0.6641\n",
            "Epoch 87/120\n",
            "420/420 [==============================] - 9s 21ms/step - loss: 0.4185 - accuracy: 0.7719 - val_loss: 1.0270 - val_accuracy: 0.6643\n",
            "Epoch 88/120\n",
            "420/420 [==============================] - 9s 20ms/step - loss: 0.4169 - accuracy: 0.7739 - val_loss: 1.0425 - val_accuracy: 0.6652\n",
            "Epoch 89/120\n",
            "420/420 [==============================] - 9s 20ms/step - loss: 0.4139 - accuracy: 0.7756 - val_loss: 1.0656 - val_accuracy: 0.6666\n",
            "Epoch 90/120\n",
            "420/420 [==============================] - 10s 23ms/step - loss: 0.4090 - accuracy: 0.7776 - val_loss: 1.0812 - val_accuracy: 0.6614\n",
            "Epoch 91/120\n",
            "420/420 [==============================] - 9s 21ms/step - loss: 0.4085 - accuracy: 0.7770 - val_loss: 1.1347 - val_accuracy: 0.6600\n",
            "Epoch 92/120\n",
            "420/420 [==============================] - 9s 20ms/step - loss: 0.4046 - accuracy: 0.7796 - val_loss: 1.0954 - val_accuracy: 0.6596\n",
            "Epoch 93/120\n",
            "420/420 [==============================] - 9s 21ms/step - loss: 0.4009 - accuracy: 0.7794 - val_loss: 1.1577 - val_accuracy: 0.6618\n",
            "Epoch 94/120\n",
            "420/420 [==============================] - 8s 20ms/step - loss: 0.4002 - accuracy: 0.7816 - val_loss: 1.1543 - val_accuracy: 0.6566\n",
            "Epoch 95/120\n",
            "420/420 [==============================] - 9s 21ms/step - loss: 0.3961 - accuracy: 0.7844 - val_loss: 1.2213 - val_accuracy: 0.6654\n",
            "Epoch 96/120\n",
            "420/420 [==============================] - 9s 21ms/step - loss: 0.3946 - accuracy: 0.7846 - val_loss: 1.3085 - val_accuracy: 0.6632\n",
            "Epoch 97/120\n",
            "420/420 [==============================] - 8s 20ms/step - loss: 0.3910 - accuracy: 0.7882 - val_loss: 1.2299 - val_accuracy: 0.6630\n",
            "Epoch 98/120\n",
            "420/420 [==============================] - 9s 21ms/step - loss: 0.3879 - accuracy: 0.7887 - val_loss: 1.2512 - val_accuracy: 0.6586\n",
            "Epoch 99/120\n",
            "420/420 [==============================] - 9s 22ms/step - loss: 0.3851 - accuracy: 0.7915 - val_loss: 1.4040 - val_accuracy: 0.6623\n",
            "Epoch 100/120\n",
            "420/420 [==============================] - 8s 20ms/step - loss: 0.3845 - accuracy: 0.7909 - val_loss: 1.3887 - val_accuracy: 0.6605\n",
            "Epoch 101/120\n",
            "420/420 [==============================] - 9s 21ms/step - loss: 0.3807 - accuracy: 0.7932 - val_loss: 1.3786 - val_accuracy: 0.6539\n",
            "Epoch 102/120\n",
            "420/420 [==============================] - 9s 21ms/step - loss: 0.3785 - accuracy: 0.7928 - val_loss: 1.3849 - val_accuracy: 0.6586\n",
            "Epoch 103/120\n",
            "420/420 [==============================] - 9s 20ms/step - loss: 0.3748 - accuracy: 0.7958 - val_loss: 1.3418 - val_accuracy: 0.6539\n",
            "Epoch 104/120\n",
            "420/420 [==============================] - 9s 20ms/step - loss: 0.3733 - accuracy: 0.7959 - val_loss: 1.3968 - val_accuracy: 0.6486\n",
            "Epoch 105/120\n",
            "420/420 [==============================] - 9s 22ms/step - loss: 0.3709 - accuracy: 0.7979 - val_loss: 1.4431 - val_accuracy: 0.6548\n",
            "Epoch 106/120\n",
            "420/420 [==============================] - 9s 20ms/step - loss: 0.3693 - accuracy: 0.7983 - val_loss: 1.3967 - val_accuracy: 0.6520\n",
            "Epoch 107/120\n",
            "420/420 [==============================] - 9s 21ms/step - loss: 0.3687 - accuracy: 0.8003 - val_loss: 1.5696 - val_accuracy: 0.6632\n",
            "Epoch 108/120\n",
            "420/420 [==============================] - 9s 21ms/step - loss: 0.3657 - accuracy: 0.8004 - val_loss: 1.4973 - val_accuracy: 0.6523\n",
            "Epoch 109/120\n",
            "420/420 [==============================] - 9s 20ms/step - loss: 0.3658 - accuracy: 0.8002 - val_loss: 1.5628 - val_accuracy: 0.6598\n",
            "Epoch 110/120\n",
            "420/420 [==============================] - 9s 21ms/step - loss: 0.3627 - accuracy: 0.8045 - val_loss: 1.5728 - val_accuracy: 0.6541\n",
            "Epoch 111/120\n",
            "420/420 [==============================] - 9s 21ms/step - loss: 0.3617 - accuracy: 0.8034 - val_loss: 1.7794 - val_accuracy: 0.6570\n",
            "Epoch 112/120\n",
            "420/420 [==============================] - 9s 20ms/step - loss: 0.3582 - accuracy: 0.8049 - val_loss: 1.7363 - val_accuracy: 0.6570\n",
            "Epoch 113/120\n",
            "420/420 [==============================] - 9s 21ms/step - loss: 0.3560 - accuracy: 0.8064 - val_loss: 1.6403 - val_accuracy: 0.6521\n",
            "Epoch 114/120\n",
            "420/420 [==============================] - 9s 22ms/step - loss: 0.3551 - accuracy: 0.8080 - val_loss: 1.6426 - val_accuracy: 0.6516\n",
            "Epoch 115/120\n",
            "420/420 [==============================] - 9s 20ms/step - loss: 0.3522 - accuracy: 0.8080 - val_loss: 1.7872 - val_accuracy: 0.6480\n",
            "Epoch 116/120\n",
            "420/420 [==============================] - 9s 21ms/step - loss: 0.3517 - accuracy: 0.8098 - val_loss: 1.7636 - val_accuracy: 0.6573\n",
            "Epoch 117/120\n",
            "420/420 [==============================] - 9s 21ms/step - loss: 0.3483 - accuracy: 0.8100 - val_loss: 1.7329 - val_accuracy: 0.6484\n",
            "Epoch 118/120\n",
            "420/420 [==============================] - 9s 20ms/step - loss: 0.3483 - accuracy: 0.8098 - val_loss: 1.7852 - val_accuracy: 0.6500\n",
            "Epoch 119/120\n",
            "420/420 [==============================] - 9s 20ms/step - loss: 0.3476 - accuracy: 0.8099 - val_loss: 1.8844 - val_accuracy: 0.6573\n",
            "Epoch 120/120\n",
            "420/420 [==============================] - 9s 21ms/step - loss: 0.3440 - accuracy: 0.8127 - val_loss: 1.8155 - val_accuracy: 0.6484\n",
            "Training finished !!\n"
          ]
        }
      ]
    },
    {
      "cell_type": "markdown",
      "source": [
        "<h1> We need to do all the above configurations to train the model. If we will not set all settings correctly then we could not get the desired results.</h1>"
      ],
      "metadata": {
        "id": "4Kqu648G5DsC"
      }
    },
    {
      "cell_type": "markdown",
      "source": [
        "#### Testing the Trained model on test data\n",
        "- Getting predictions/classifying the sentiments (positve/negative) on the test data using trained model."
      ],
      "metadata": {
        "id": "aQ72A5F4U0wr"
      }
    },
    {
      "cell_type": "code",
      "source": [
        "accr1 = model.evaluate(X_test,Y_test) #we are starting to test the model here"
      ],
      "metadata": {
        "id": "LlxD3pU9U0ws",
        "outputId": "827d11f3-b136-4e2b-b630-e4ccea3544d6",
        "execution": {
          "iopub.status.busy": "2023-04-03T08:21:48.135145Z",
          "iopub.execute_input": "2023-04-03T08:21:48.136111Z",
          "iopub.status.idle": "2023-04-03T08:22:16.748346Z",
          "shell.execute_reply.started": "2023-04-03T08:21:48.13606Z",
          "shell.execute_reply": "2023-04-03T08:22:16.747021Z"
        },
        "trusted": true,
        "colab": {
          "base_uri": "https://localhost:8080/"
        }
      },
      "execution_count": null,
      "outputs": [
        {
          "output_type": "stream",
          "name": "stdout",
          "text": [
            "750/750 [==============================] - 6s 8ms/step - loss: 1.8315 - accuracy: 0.6478\n"
          ]
        }
      ]
    },
    {
      "cell_type": "markdown",
      "source": [
        "#### Accuracy\n",
        "- Accuracy is the number of correctly classify tweets from all the tweets of positive and negative.\n",
        "- For example, if the trained model classify the 70 tweets correct and 30 tweets wrong from total of 100 tweets then the accuracy score will be 70%.\n",
        "- Accuracy= Total number of correct predictions/Total number of predictions"
      ],
      "metadata": {
        "id": "h5ZOTOh14WKO"
      }
    },
    {
      "cell_type": "code",
      "source": [
        "print('Test set\\n  Accuracy: {:0.2f}'.format(accr1[1])) #the accuracy of the model on test data is given below"
      ],
      "metadata": {
        "id": "E2bQq4jaU0wt",
        "outputId": "8b3211ba-50f9-47ec-c719-0a9b984098af",
        "execution": {
          "iopub.status.busy": "2023-04-03T08:22:16.750445Z",
          "iopub.execute_input": "2023-04-03T08:22:16.750791Z",
          "iopub.status.idle": "2023-04-03T08:22:16.758308Z",
          "shell.execute_reply.started": "2023-04-03T08:22:16.75076Z",
          "shell.execute_reply": "2023-04-03T08:22:16.756728Z"
        },
        "trusted": true,
        "colab": {
          "base_uri": "https://localhost:8080/"
        }
      },
      "execution_count": null,
      "outputs": [
        {
          "output_type": "stream",
          "name": "stdout",
          "text": [
            "Test set\n",
            "  Accuracy: 0.65\n"
          ]
        }
      ]
    },
    {
      "cell_type": "markdown",
      "source": [
        "#### Getting prediction of the test data and then we will compare the true labels/classes of the data with predictions\n",
        "- As the model give probabilties so we are setting a threshold 0.5. More than 0.5 will be the positive tweets and lower will be negative tweets"
      ],
      "metadata": {
        "id": "cVDIIBUY5DsD"
      }
    },
    {
      "cell_type": "code",
      "source": [
        "y_pred = model.predict(X_test) #getting predictions on the trained model\n",
        "y_pred = (y_pred > 0.5)"
      ],
      "metadata": {
        "execution": {
          "iopub.status.busy": "2023-04-03T08:22:16.761132Z",
          "iopub.execute_input": "2023-04-03T08:22:16.762381Z",
          "iopub.status.idle": "2023-04-03T08:22:42.699811Z",
          "shell.execute_reply.started": "2023-04-03T08:22:16.76233Z",
          "shell.execute_reply": "2023-04-03T08:22:42.698716Z"
        },
        "trusted": true,
        "id": "aDmg6Byd5DsD",
        "outputId": "a6fad232-f912-464a-eadc-6970ed9e80da",
        "colab": {
          "base_uri": "https://localhost:8080/"
        }
      },
      "execution_count": null,
      "outputs": [
        {
          "output_type": "stream",
          "name": "stdout",
          "text": [
            "750/750 [==============================] - 6s 7ms/step\n"
          ]
        }
      ]
    },
    {
      "cell_type": "markdown",
      "source": [
        "#### Confusion matrix\n",
        "- These are the evaluation measures to evaluate the performance of the model.\n",
        "- Dark blue boxes are the correct predictions with the trained model and sky blue boxes shows the wrong predictions.\n",
        "- 4610 tweets correctly predicted as negative sentiments. 1399 tweets predicted positive sentiments but that were actually negative sentiments.\n",
        "- 4247 tweets correctly predicted as postive sentiments. 1744 tweets predicted negative sentiments but that were actually positive sentiments."
      ],
      "metadata": {
        "id": "40MjbuBA7Og9"
      }
    },
    {
      "cell_type": "code",
      "source": [
        "print('\\n')\n",
        "print(\"confusion matrix\")\n",
        "print('\\n')\n",
        "CR=confusion_matrix(Y_test, y_pred)\n",
        "print(CR)\n",
        "print('\\n')\n",
        "\n",
        "fig, ax = plot_confusion_matrix(conf_mat=CR,figsize=(10, 10),\n",
        "                                show_absolute=True,\n",
        "                                show_normed=True,\n",
        "                                colorbar=True)\n",
        "plt.show()"
      ],
      "metadata": {
        "id": "WERD7KXs8YmQ",
        "outputId": "267e72c6-125b-4c17-d108-69198664e2fd",
        "execution": {
          "iopub.status.busy": "2023-04-03T08:22:42.701316Z",
          "iopub.execute_input": "2023-04-03T08:22:42.701958Z",
          "iopub.status.idle": "2023-04-03T08:22:43.004857Z",
          "shell.execute_reply.started": "2023-04-03T08:22:42.701924Z",
          "shell.execute_reply": "2023-04-03T08:22:43.003346Z"
        },
        "trusted": true,
        "colab": {
          "base_uri": "https://localhost:8080/",
          "height": 973
        }
      },
      "execution_count": null,
      "outputs": [
        {
          "output_type": "stream",
          "name": "stdout",
          "text": [
            "\n",
            "\n",
            "confusion matrix\n",
            "\n",
            "\n",
            "[[6673 5243]\n",
            " [3210 8874]]\n",
            "\n",
            "\n"
          ]
        },
        {
          "output_type": "display_data",
          "data": {
            "text/plain": [
              "<Figure size 1000x1000 with 2 Axes>"
            ],
            "image/png": "[encoded data removed]"
          },
          "metadata": {}
        }
      ]
    },
    {
      "cell_type": "markdown",
      "source": [
        "# ROC CURVE\n",
        "- ROC curve show the performance of the model as well.\n",
        "- We can see that the model started from the 0 percent predictions and then moved to true positive predictions that are correct\n",
        "- ROC curve (receiver operating characteristic curve) show the performance of a classification model at all the classification thresholds. ROC plots two parameters, True Positive Rate (correct predictions/classifications) False Positive Rate (wrong predictions/classifications)"
      ],
      "metadata": {
        "id": "wlWpCx_OXEIq"
      }
    },
    {
      "cell_type": "code",
      "source": [
        "fpr, tpr, thresholds = roc_curve(Y_test, y_pred)\n",
        "roc_auc = auc(fpr, tpr)\n",
        "plt.figure()\n",
        "plt.plot(fpr, tpr, color='darkorange', lw=1, label='ROC curve (area = %0.2f)' % roc_auc)\n",
        "plt.xlim([0.0, 1.0])\n",
        "plt.ylim([0.0, 1.05])\n",
        "plt.xlabel('False Positive Rate')\n",
        "plt.ylabel('True Positive Rate')\n",
        "plt.title('ROC CURVE')\n",
        "plt.legend(loc=\"lower right\")\n",
        "plt.show()"
      ],
      "metadata": {
        "id": "uypTDMUZXEIq",
        "outputId": "24f52faf-0eb5-42e7-ce5e-6441338a13cc",
        "scrolled": true,
        "execution": {
          "iopub.status.busy": "2023-04-03T08:22:43.006745Z",
          "iopub.execute_input": "2023-04-03T08:22:43.00723Z",
          "iopub.status.idle": "2023-04-03T08:22:43.179625Z",
          "shell.execute_reply.started": "2023-04-03T08:22:43.007147Z",
          "shell.execute_reply": "2023-04-03T08:22:43.17843Z"
        },
        "trusted": true,
        "colab": {
          "base_uri": "https://localhost:8080/",
          "height": 477
        }
      },
      "execution_count": null,
      "outputs": [
        {
          "output_type": "display_data",
          "data": {
            "text/plain": [
              "<Figure size 640x480 with 1 Axes>"
            ],
            "image/png": "[encoded data removed]"
          },
          "metadata": {}
        }
      ]
    },
    {
      "cell_type": "markdown",
      "source": [
        "<div class=\"alert alert-block alert-success\">  \n",
        "<h1><center><strong>Conclusion 📝</strong></center></h1>\n",
        "    <p>\n",
        "<li>We used the twitter sentiment analysis dataset and explored the data with different ways.</li>\n",
        "        <li>We prepared the text data of tweets by removing the unnecessary things.</li>\n",
        "          <li>We trained model based on tensorflow with all settings. </li>\n",
        "        <li>We evaluated thye model with different evaluation measures.</li>\n",
        "         <li>If you are interested to work on any text based project, you can simply apply the same methodolgy but might be you will need to change little settings like name of coloumns etc.</li>\n",
        "        <li>We worked on the classification problem and sepcifically we call it binary classification which is two class classification.</li>\n",
        "        </p>\n",
        "</div>"
      ],
      "metadata": {
        "id": "oScnIT9g5DsF"
      }
    },
    {
      "cell_type": "code",
      "source": [
        "model.save('senti_anal_3.h5')"
      ],
      "metadata": {
        "id": "vNz_X-izDpyy"
      },
      "execution_count": null,
      "outputs": []
    },
    {
      "cell_type": "code",
      "source": [
        "model.predict(X_test)"
      ],
      "metadata": {
        "id": "OFOPOmRfDvXa",
        "outputId": "067c83c4-e9d9-4bbe-bc10-73c754321ff2",
        "colab": {
          "base_uri": "https://localhost:8080/"
        }
      },
      "execution_count": null,
      "outputs": [
        {
          "output_type": "stream",
          "name": "stdout",
          "text": [
            "750/750 [==============================] - 6s 8ms/step\n"
          ]
        },
        {
          "output_type": "execute_result",
          "data": {
            "text/plain": [
              "array([[0.99998367],\n",
              "       [0.9606557 ],\n",
              "       [0.53419906],\n",
              "       ...,\n",
              "       [0.13775034],\n",
              "       [0.53419906],\n",
              "       [0.5063815 ]], dtype=float32)"
            ]
          },
          "metadata": {},
          "execution_count": 64
        }
      ]
    },
    {
      "cell_type": "code",
      "source": [],
      "metadata": {
        "id": "g3nGiua6dW9I"
      },
      "execution_count": null,
      "outputs": []
    }
  ]
}